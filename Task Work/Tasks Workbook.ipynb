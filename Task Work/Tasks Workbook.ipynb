{
 "cells": [
  {
   "cell_type": "markdown",
   "metadata": {},
   "source": [
    "## Task Workbook - Fundamentals of Data Analysis\n",
    "#### Submitted by Sinéad Duffy, Student ID 10016151\n",
    "\n",
    "#### Task 1 - workings for counts function\n",
    "**Ask** - create a function called counts to take a list as input and returns a dictionary of the number of unique items in that list\n",
    "<br><br>\n",
    "The user of the program, enters an input into the input box.  For consistency, the string is converted into lower case characters using the *.lower()* method.  Next, the *.replace()* method is used to remove 'spaces' from the text.  This ensures that there is no empty container in the array taking up excess space or memory.  The array can hold and count numbers as well as punctuation characters when used in the input string.\n",
    "<br><br>\n",
    "The function *countsFunction*, takes the string inputted from the user.  It uses a *for statement* to loop through the string, *if* the character has alread been counted, then and addition number is added to the array called 'instanceOfChar'.  If the character has not already been counted, then the *else* step add's 1 to that charcters space in the array.  When the loop is complete, the counted array is then returned.\n",
    "<br><br>\n",
    "The print statement at the end of the program calls the function, and passes the string to it.  The results of the parsed array are then printed to the screen\n",
    "<br>\n",
    "References and workings are shown in Task 1 - Workings Notebook"
   ]
  },
  {
   "cell_type": "code",
   "execution_count": 1,
   "metadata": {},
   "outputs": [],
   "source": [
    "#libaries to be imported for the notebook\n",
    "import numpy as np\n",
    "from numpy.random import default_rng\n",
    "rng = default_rng()\n",
    "\n",
    "import pandas as pd\n",
    "import seaborn as sns\n",
    "import matplotlib.pyplot as plt\n",
    "import pylab as p"
   ]
  },
  {
   "cell_type": "code",
   "execution_count": null,
   "metadata": {},
   "outputs": [],
   "source": [
    "def countsFunction(string):\n",
    "    instanceOfChar = {}\n",
    "    for i in string2:\n",
    "        if i in instanceOfChar:\n",
    "            instanceOfChar[i] += 1\n",
    "        else:\n",
    "             instanceOfChar[i] = 1\n",
    "    return(instanceOfChar)\n",
    "\n",
    "string = input('Enter a sentence:')\n",
    "lowerCase = string.lower()\n",
    "string2 = lowerCase.replace(\" \",\"\")\n",
    "\n",
    "print(countsFunction(string2))"
   ]
  },
  {
   "cell_type": "markdown",
   "metadata": {},
   "source": [
    "#### Task 2 - workings for counts function\n",
    "**Ask** - create a function called *dicerolls* to take in two parameters, the number of dice *k*, and the number of times to roll the dice *n*.  Randomdully simulate rolling the *n* dice *k* times.  Return a dictionary with the number of possible total face vlaue occured.\n",
    "<br><br>\n",
    "\n",
    "<br><br>\n",
    "\n",
    "<br><br>\n",
    "\n",
    "<br>\n",
    "Further references and workings are shown in Task 2 - Workings Notebook"
   ]
  },
  {
   "cell_type": "code",
   "execution_count": null,
   "metadata": {},
   "outputs": [],
   "source": [
    "def dicerolls(x,k,DiceRange):\n",
    "    DiceResults = {}\n",
    "    #roll the dice x number of times (as defined by the user)\n",
    "    for x in range(1,x):\n",
    "        #calculate the random value of the roll (using a range of 1 to DiceRange)\n",
    "        roll = rng.integers(1,DiceRange)\n",
    "        #if the result in is in the array add one\n",
    "        if roll in DiceResults:\n",
    "            DiceResults[roll] += 1\n",
    "        #otherwise .. add to the array\n",
    "        else:\n",
    "            DiceResults[roll] = DiceResults[roll] = 1\n",
    "        \n",
    "        #DiceResults.sort(order=DiceRange)\n",
    "        sorted(DiceResults.items(), key = lambda x: x[1])\n",
    "    return(DiceResults)\n",
    "\n",
    "#enter user values to roll x times and x number of dice\n",
    "x = int(input('Enter the number of rolls to be made:'))\n",
    "k = int(input('Enter the number of dice to be rolled:'))\n",
    "DiceFace = 6\n",
    "DiceRange = (k * DiceFace) + 1\n",
    "\n",
    "print(dicerolls(x,k,DiceRange))"
   ]
  },
  {
   "cell_type": "markdown",
   "metadata": {},
   "source": [
    "#### Task 3 - Binomial Distribution, Flipping a coin x number of time\n",
    "**Ask** - flip a coin 100 times, then repeat for 1,000 flips of the coin.  Plot the results \n",
    "<br><br>\n",
    "\n",
    "<br><br>\n",
    "*Refrences*\n",
    "\n",
    "1. NumPy.org, Binomial Distribution, https://numpy.org/doc/stable/reference/random/generated/numpy.random.binomial.html, accessed 10 December 2020\n",
    "2. CMDLineTips.com, Binomial Distribution, https://cmdlinetips.com/2018/12/simulating-coin-toss-experiment-with-binomial-random-numbers-using-numpy/, accessed 11 December 2020"
   ]
  },
  {
   "cell_type": "code",
   "execution_count": null,
   "metadata": {},
   "outputs": [],
   "source": [
    "#flip a coin 100 times, and count No of heads, repeat 1000 times\n",
    "#print and graph the results \n",
    "\n",
    "#defining the parameters of the experiment\n",
    "noFlip = 100\n",
    "prob = 0.5\n",
    "sampleSize = 1000\n",
    "\n",
    "#run the binomial function to determine the outcome\n",
    "x = rng.binomial(n=noFlip, p=prob, size=sampleSize)\n",
    "\n",
    "#print(x)\n",
    "\n",
    "#open an array to store the results of the probabilty of x heads in each 100 flips of the coin\n",
    "countHeads = [np.equal(x,i).mean() for i in range(noFlip)]\n",
    "\n",
    "print(countHeads)\n",
    "\n",
    "#plot the results\n",
    "sns.distplot(countHeads)"
   ]
  },
  {
   "cell_type": "code",
   "execution_count": null,
   "metadata": {},
   "outputs": [],
   "source": []
  },
  {
   "cell_type": "markdown",
   "metadata": {},
   "source": [
    "#### Task 4 - Simpson's Paradox\n",
    "**Ask** - Create **four data sets**, each with an x array and a corresponding y array, to demonstrate Simpson’s paradox. You might create your **x arrays using numpy.linspace** and create the **y array for each x using notation like y = a * x + b** where you choose the a and b for each x , y pair to demonstrate the paradox.\n",
    "<br><br>\n",
    "Simpson's paradox, occur in statitices when a clear pattern or trend within the data either \"disappears or reverses when these groups are combined\"$^1$. The most quoted example of this is the UCI Berekly Study from 1974, where the perception of bias in Geneder amongst admission, was reversed when the Department of study was applied to the data.\n",
    "<br><br>\n",
    "To demonstarte Simpson's Paradox, the author has choosen to look at flights into an Airport.  The choosen airport was Shannon, with the flights arriving from 2 different airports (Dublin and Knock).  For each airport, the number of flights in total over a period is tracked - this is variable *x*.  The number of delayed flights is alo tracked - this is variable *y*.  *X* is calculated using the numpy.linspace calulation.  *Y* is calculated using the **y = a * x + b** notiation as outlined in the Task brief.  The values of *a* and *b* are estimated, but will be selected knowing the value of each will take in to account a percentage of delayed flights, as etimated by the author. As flights between Irish airports are not frequent, the numbers have been estmated for the purpose of this Task.\n",
    "<br><br>\n",
    "The estimated data is based on\n",
    "- Dublin\n",
    "    - Total Flights = 80  /  80%\n",
    "    - Delayed = 20  /  20%\n",
    "- Knock\n",
    "    - Total Flights = 70  /  70%\n",
    "    - Delayed = 30  /  30%\n",
    "- Combined\n",
    "    - Total Flights = 100\n",
    "    - Delayed = 50\n",
    "<br><br>\n",
    "\n",
    "<br><br>\n",
    "*Refrences*\n",
    "1. Wikipedia.com, Simpson's Paradox, https://en.wikipedia.org/wiki/Simpson%27s_paradox#:~:text=Simpson's%20paradox%2C%20which%20also%20goes,when%20these%20groups%20are%20combined, accessed 12 December 2020\n",
    "2. RealPython.com, Using Pandas and Python to Explore Your Dataset, https://realpython.com/pandas-python-explore-dataset/, accesssed 12 December 2020\n",
    "3. GeekforGeeks, numpy.linspace() in Python, https://www.geeksforgeeks.org/numpy-linspace-python/, accessed 12 December 2020\n",
    "4. NumPy.org, Random Generator, https://numpy.org/devdocs/reference/random/generator.html, accessed 12 December 2020\n",
    "5. Kaggle.com, Simpson’s Paradox - In Python, https://www.kaggle.com/saicataram/simpson-s-paradox-in-python, accessed 12 December 2020\n",
    "6. Pandas.pydata.org, pandas.DataFrame.to_numpy, https://pandas.pydata.org/pandas-docs/stable/reference/api/pandas.DataFrame.to_numpy.html, accessed 12 December 2020 \n",
    "7. python-course.eu, Generate Datasets in Python, https://www.python-course.eu/machine_learning_create_datasets.php\n",
    "8. Tutorialspoint.com, Matplotlib - PyLab module, https://www.tutorialspoint.com/matplotlib/matplotlib_pylab_module.htm, accessed 12 December 2020\n",
    "9. Brilliant.org, Simpsons Paradox, https://brilliant.org/wiki/simpsons-paradox/#:~:text=When%20aggregated%20across%20all%20of,the%20average%20tax%20rate%20increased!&text=In%20fact%2C%20one%20real%2Dworld,has%20risen%20(about%201%25), accessed 12 December 2020\n",
    "10. Britannica.com, Simpsons Paradox, https://www.britannica.com/topic/Simpsons-paradox, accessed 12 December 2020"
   ]
  },
  {
   "cell_type": "markdown",
   "metadata": {},
   "source": [
    "#### Creating the datasets\n",
    "\n",
    "***"
   ]
  },
  {
   "cell_type": "code",
   "execution_count": 68,
   "metadata": {},
   "outputs": [
    {
     "name": "stdout",
     "output_type": "stream",
     "text": [
      "[1.3997549 0.7451958]\n"
     ]
    },
    {
     "data": {
      "text/plain": [
       "[<matplotlib.lines.Line2D at 0x195be9a9130>]"
      ]
     },
     "execution_count": 68,
     "metadata": {},
     "output_type": "execute_result"
    },
    {
     "data": {
      "image/png": "[encoded data removed]",
      "text/plain": [
       "<Figure size 432x288 with 1 Axes>"
      ]
     },
     "metadata": {
      "needs_background": "light"
     },
     "output_type": "display_data"
    }
   ],
   "source": [
    "#create dataset 1 - flights from Dublin Airport to Shannon Airport\n",
    "#x1 = total flights, y1 = flight delayed\n",
    "\n",
    "#0.0,5.0\n",
    "x1 = np.linspace(0.0,8.0,num=100)\n",
    "#createing variables for y = using the line function \n",
    "#a = 6.0, b = 5.0, including noise, and a Std Dev of 1.5\n",
    "y1 = 1.5 * x1 + 0.5 + np.random.normal(0.0, 1.5, len(x1))\n",
    "\n",
    "Coefficient1= np.polyfit(x1, y1, 1)\n",
    "print(Coefficient1)\n",
    "\n",
    "# Plot x vs y.\n",
    "plt.plot(x1, y1, '*')\n",
    "plt.plot(x1, Coefficient1[0] * x1 + Coefficient1[1], '-', label='Dublin')"
   ]
  },
  {
   "cell_type": "code",
   "execution_count": 72,
   "metadata": {},
   "outputs": [
    {
     "name": "stdout",
     "output_type": "stream",
     "text": [
      "[2.0005982  1.05430729]\n"
     ]
    },
    {
     "data": {
      "text/plain": [
       "[<matplotlib.lines.Line2D at 0x195beeeb460>]"
      ]
     },
     "execution_count": 72,
     "metadata": {},
     "output_type": "execute_result"
    },
    {
     "data": {
      "image/png": "[encoded data removed]",
      "text/plain": [
       "<Figure size 432x288 with 1 Axes>"
      ]
     },
     "metadata": {
      "needs_background": "light"
     },
     "output_type": "display_data"
    }
   ],
   "source": [
    "#create dataset 2 - flights from  Knock Airport Shannon Airport\n",
    "#x2 = total flights\n",
    "#y2 = delayed\n",
    "\n",
    "#x2 = np.linspace(0.0,7.0,num=100)\n",
    "x2 = np.linspace(0.0,8.0,num=100)\n",
    "#createing variables for y = using the line function \n",
    "#a = 6.0, b = 5.0, including noise, and a Std Dev of 1.5\n",
    "y2 = 2.0 * x1 + 1.0 + np.random.normal(0.0, 0.75, len(x2))\n",
    "\n",
    "Coefficient2= np.polyfit(x2, y2, 1)\n",
    "print(Coefficient2)\n",
    "\n",
    "# Plot x vs y.\n",
    "plt.plot(x2, y2, '.')\n",
    "plt.plot(x2, Coefficient2[0] * x2 + Coefficient2[1], '-', label='Knock')"
   ]
  },
  {
   "cell_type": "markdown",
   "metadata": {},
   "source": [
    "### Combining the Data Sets to see correlation\n",
    "\n",
    "***"
   ]
  },
  {
   "cell_type": "code",
   "execution_count": 63,
   "metadata": {},
   "outputs": [],
   "source": [
    "#concatenate \n",
    "x = np.concatenate([x1, x2])\n",
    "y = np.concatenate([y1, y2])"
   ]
  },
  {
   "cell_type": "code",
   "execution_count": 64,
   "metadata": {},
   "outputs": [
    {
     "name": "stdout",
     "output_type": "stream",
     "text": [
      "[1.75442863 0.78586323]\n"
     ]
    }
   ],
   "source": [
    "# Fit a line to the combined data set.\n",
    "Coefficient = np.polyfit(x, y, 1)\n",
    "print(Coefficient)"
   ]
  },
  {
   "cell_type": "code",
   "execution_count": 73,
   "metadata": {},
   "outputs": [
    {
     "data": {
      "image/png": "[encoded data removed]",
      "text/plain": [
       "<Figure size 432x288 with 1 Axes>"
      ]
     },
     "metadata": {
      "needs_background": "light"
     },
     "output_type": "display_data"
    }
   ],
   "source": [
    "# What does the x/y relationship look like in the combined\n",
    "# versus the original?\n",
    "plt.plot(x1, y1, '*', label=\"data1\")\n",
    "plt.plot(x1, Coefficient1[0] * x1 + Coefficient1[1], '-', label='Flights from Dublin')\n",
    "plt.plot(x2, y2, '.', label=\"data2\")\n",
    "plt.plot(x2, Coefficient2[0] * x2 + Coefficient2[1], '-', label='Flights from Knock')\n",
    "plt.plot(x, Coefficient[0] * x + Coefficient[1], '-', label='Flights to Shannon combined')\n",
    "#plt.xaxis\n",
    "plt.legend();\n",
    "#x2 = ontime\n",
    "#y2 = delayed"
   ]
  },
  {
   "cell_type": "code",
   "execution_count": null,
   "metadata": {},
   "outputs": [],
   "source": []
  },
  {
   "cell_type": "code",
   "execution_count": null,
   "metadata": {},
   "outputs": [],
   "source": []
  },
  {
   "cell_type": "code",
   "execution_count": null,
   "metadata": {},
   "outputs": [],
   "source": []
  },
  {
   "cell_type": "code",
   "execution_count": null,
   "metadata": {},
   "outputs": [],
   "source": []
  },
  {
   "cell_type": "code",
   "execution_count": null,
   "metadata": {},
   "outputs": [],
   "source": []
  },
  {
   "cell_type": "code",
   "execution_count": null,
   "metadata": {},
   "outputs": [],
   "source": []
  }
 ],
 "metadata": {
  "kernelspec": {
   "display_name": "Python 3",
   "language": "python",
   "name": "python3"
  },
  "language_info": {
   "codemirror_mode": {
    "name": "ipython",
    "version": 3
   },
   "file_extension": ".py",
   "mimetype": "text/x-python",
   "name": "python",
   "nbconvert_exporter": "python",
   "pygments_lexer": "ipython3",
   "version": "3.8.3"
  }
 },
 "nbformat": 4,
 "nbformat_minor": 4
}
