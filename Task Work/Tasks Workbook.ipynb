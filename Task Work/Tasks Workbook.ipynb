{
 "cells": [
  {
   "cell_type": "markdown",
   "metadata": {},
   "source": [
    "## Task Workbook - Fundamentals of Data Analysis\n",
    "#### Submitted by Sinéad Duffy, Student ID 10016151\n",
    "\n",
    "#### Task 1 - workings for counts function\n",
    "**Ask** - create a function called counts to take a list as input and returns a dictionary of the number of unique items in that list\n",
    "<br><br>\n",
    "The user of the program, enters an input into the input box.  For consistency, the string is converted into lower case characters using the *.lower()* method.  Next, the *.replace()* method is used to remove 'spaces' from the text.  This ensures that there is no empty container in the array taking up excess space or memory.  The array can hold and count numbers as well as punctuation characters when used in the input string.\n",
    "<br><br>\n",
    "The function *countsFunction*, takes the string inputted from the user.  It uses a *for statement* to loop through the string, *if* the character has alread been counted, then and addition number is added to the array called 'instanceOfChar'.  If the character has not already been counted, then the *else* step add's 1 to that charcters space in the array.  When the loop is complete, the counted array is then returned.\n",
    "<br><br>\n",
    "The print statement at the end of the program calls the function, and passes the string to it.  The results of the parsed array are then printed to the screen\n",
    "<br>\n",
    "References and workings are shown in Task 1 - Workings Notebook"
   ]
  },
  {
   "cell_type": "code",
   "execution_count": 9,
   "metadata": {},
   "outputs": [
    {
     "name": "stdout",
     "output_type": "stream",
     "text": [
      "{'h': 2, 'e': 2, 'l': 3, 'o': 2, 'w': 1, 'r': 1, 'd': 1, ',': 1, 't': 3, 'i': 2, 's': 3, 'a': 1}\n"
     ]
    }
   ],
   "source": [
    "string = \"Hello World, this is a test\"\n",
    "lowerCase = string.lower()\n",
    "string2 = lowerCase.replace(\" \",\"\")\n",
    "    \n",
    "instanceOfChar = {}\n",
    "for i in string2:\n",
    "    if i in instanceOfChar:\n",
    "        instanceOfChar[i] += 1\n",
    "    else:\n",
    "         instanceOfChar[i] = 1\n",
    "print(instanceOfChar)"
   ]
  },
  {
   "cell_type": "code",
   "execution_count": 11,
   "metadata": {},
   "outputs": [
    {
     "name": "stdout",
     "output_type": "stream",
     "text": [
      "Enter a sentence:hello \n",
      "{'h': 1, 'e': 1, 'l': 2, 'o': 1}\n"
     ]
    }
   ],
   "source": [
    "def countsFunction(string):\n",
    "    instanceOfChar = {}\n",
    "    for i in string2:\n",
    "        if i in instanceOfChar:\n",
    "            instanceOfChar[i] += 1\n",
    "        else:\n",
    "             instanceOfChar[i] = 1\n",
    "    return(instanceOfChar)\n",
    "\n",
    "string = input('Enter a sentence:')\n",
    "lowerCase = string.lower()\n",
    "string2 = lowerCase.replace(\" \",\"\")\n",
    "\n",
    "print(countsFunction(string2))"
   ]
  },
  {
   "cell_type": "code",
   "execution_count": null,
   "metadata": {},
   "outputs": [],
   "source": []
  },
  {
   "cell_type": "code",
   "execution_count": null,
   "metadata": {},
   "outputs": [],
   "source": []
  }
 ],
 "metadata": {
  "kernelspec": {
   "display_name": "Python 3",
   "language": "python",
   "name": "python3"
  },
  "language_info": {
   "codemirror_mode": {
    "name": "ipython",
    "version": 3
   },
   "file_extension": ".py",
   "mimetype": "text/x-python",
   "name": "python",
   "nbconvert_exporter": "python",
   "pygments_lexer": "ipython3",
   "version": "3.8.3"
  }
 },
 "nbformat": 4,
 "nbformat_minor": 4
}
