{
 "cells": [
  {
   "cell_type": "markdown",
   "metadata": {},
   "source": [
    "## Task Workbook - Fundamentals of Data Analysis\n",
    "#### Submitted by Sinéad Duffy, Student ID 10016151\n",
    "\n",
    "#### Task 1 - workings for counts function\n",
    "**Ask** - create a function called counts to take a list as input and returns a dictionary of the number of unique items in that list\n",
    "<br><br>\n",
    "The user of the program, enters an input into the input box.  For consistency, the string is converted into lower case characters using the *.lower()* method.  Next, the *.replace()* method is used to remove 'spaces' from the text.  This ensures that there is no empty container in the array taking up excess space or memory.  The array can hold and count numbers as well as punctuation characters when used in the input string.\n",
    "<br><br>\n",
    "The function *countsFunction*, takes the string inputted from the user.  It uses a *for statement* to loop through the string, *if* the character has alread been counted, then and addition number is added to the array called 'instanceOfChar'.  If the character has not already been counted, then the *else* step add's 1 to that charcters space in the array.  When the loop is complete, the counted array is then returned.\n",
    "<br><br>\n",
    "The print statement at the end of the program calls the function, and passes the string to it.  The results of the parsed array are then printed to the screen\n",
    "<br>\n",
    "References and workings are shown in Task 1 - Workings Notebook"
   ]
  },
  {
   "cell_type": "code",
   "execution_count": 11,
   "metadata": {},
   "outputs": [],
   "source": [
    "#libaries to be imported for the notebook\n",
    "import numpy as np\n",
    "from numpy.random import default_rng\n",
    "rng = default_rng()\n",
    "\n",
    "import seaborn as sns\n",
    "import matplotlib.pyplot as plt"
   ]
  },
  {
   "cell_type": "code",
   "execution_count": null,
   "metadata": {},
   "outputs": [],
   "source": [
    "def countsFunction(string):\n",
    "    instanceOfChar = {}\n",
    "    for i in string2:\n",
    "        if i in instanceOfChar:\n",
    "            instanceOfChar[i] += 1\n",
    "        else:\n",
    "             instanceOfChar[i] = 1\n",
    "    return(instanceOfChar)\n",
    "\n",
    "string = input('Enter a sentence:')\n",
    "lowerCase = string.lower()\n",
    "string2 = lowerCase.replace(\" \",\"\")\n",
    "\n",
    "print(countsFunction(string2))"
   ]
  },
  {
   "cell_type": "markdown",
   "metadata": {},
   "source": [
    "#### Task 2 - workings for counts function\n",
    "**Ask** - create a function called *dicerolls* to take in two parameters, the number of dice *k*, and the number of times to roll the dice *n*.  Randomdully simulate rolling the *n* dice *k* times.  Return a dictionary with the number of possible total face vlaue occured.\n",
    "<br><br>\n",
    "\n",
    "<br><br>\n",
    "\n",
    "<br><br>\n",
    "\n",
    "<br>\n",
    "Further references and workings are shown in Task 2 - Workings Notebook"
   ]
  },
  {
   "cell_type": "code",
   "execution_count": 5,
   "metadata": {},
   "outputs": [
    {
     "name": "stdout",
     "output_type": "stream",
     "text": [
      "Enter the number of rolls to be made:5\n",
      "Enter the number of dice to be rolled:5\n",
      "{18: 1, 3: 1, 5: 1, 9: 1}\n"
     ]
    }
   ],
   "source": [
    "def dicerolls(x,k,DiceRange):\n",
    "    DiceResults = {}\n",
    "    #roll the dice x number of times (as defined by the user)\n",
    "    for x in range(1,x):\n",
    "        #calculate the random value of the roll (using a range of 1 to DiceRange)\n",
    "        roll = rng.integers(1,DiceRange)\n",
    "        #if the result in is in the array add one\n",
    "        if roll in DiceResults:\n",
    "            DiceResults[roll] += 1\n",
    "        #otherwise .. add to the array\n",
    "        else:\n",
    "            DiceResults[roll] = DiceResults[roll] = 1\n",
    "        \n",
    "        #DiceResults.sort(order=DiceRange)\n",
    "        sorted(DiceResults.items(), key = lambda x: x[1])\n",
    "    return(DiceResults)\n",
    "\n",
    "#enter user values to roll x times and x number of dice\n",
    "x = int(input('Enter the number of rolls to be made:'))\n",
    "k = int(input('Enter the number of dice to be rolled:'))\n",
    "DiceFace = 6\n",
    "DiceRange = (k * DiceFace) + 1\n",
    "\n",
    "print(dicerolls(x,k,DiceRange))"
   ]
  },
  {
   "cell_type": "markdown",
   "metadata": {},
   "source": [
    "#### Task 2 - Binomial Distribution, Flipping a coin x number of time\n",
    "**Ask** - flip a coin 100 times, then repeat for 1,000 flips of the coin.  Plot the results \n",
    "<br><br>\n",
    "\n",
    "<br><br>\n",
    "*Refrences*\n",
    "\n",
    "1. NumPy.org, Binomial Distribution, https://numpy.org/doc/stable/reference/random/generated/numpy.random.binomial.html, accessed 10 December 2020\n",
    "2. CMDLineTips.com, Binomial Distribution, https://cmdlinetips.com/2018/12/simulating-coin-toss-experiment-with-binomial-random-numbers-using-numpy/, accessed 11 December 2020"
   ]
  },
  {
   "cell_type": "code",
   "execution_count": 10,
   "metadata": {},
   "outputs": [
    {
     "name": "stdout",
     "output_type": "stream",
     "text": [
      "[0.0, 0.0, 0.0, 0.0, 0.0, 0.0, 0.0, 0.0, 0.0, 0.0, 0.0, 0.0, 0.0, 0.0, 0.0, 0.0, 0.0, 0.0, 0.0, 0.0, 0.0, 0.0, 0.0, 0.0, 0.0, 0.0, 0.0, 0.0, 0.0, 0.0, 0.0, 0.0, 0.001, 0.0, 0.0, 0.0, 0.0, 0.003, 0.005, 0.005, 0.014, 0.015, 0.025, 0.033, 0.033, 0.05, 0.056, 0.07, 0.067, 0.081, 0.073, 0.081, 0.086, 0.06, 0.061, 0.043, 0.033, 0.035, 0.026, 0.019, 0.009, 0.003, 0.008, 0.005, 0.0, 0.0, 0.0, 0.0, 0.0, 0.0, 0.0, 0.0, 0.0, 0.0, 0.0, 0.0, 0.0, 0.0, 0.0, 0.0, 0.0, 0.0, 0.0, 0.0, 0.0, 0.0, 0.0, 0.0, 0.0, 0.0, 0.0, 0.0, 0.0, 0.0, 0.0, 0.0, 0.0, 0.0, 0.0, 0.0]\n"
     ]
    },
    {
     "data": {
      "text/plain": [
       "<matplotlib.axes._subplots.AxesSubplot at 0x2cfb9535790>"
      ]
     },
     "execution_count": 10,
     "metadata": {},
     "output_type": "execute_result"
    },
    {
     "data": {
      "image/png": "[encoded data removed]",
      "text/plain": [
       "<Figure size 432x288 with 1 Axes>"
      ]
     },
     "metadata": {
      "needs_background": "light"
     },
     "output_type": "display_data"
    }
   ],
   "source": [
    "#flip a coin 100 times, and count No of heads, repeat 1000 times\n",
    "#print and graph the results \n",
    "\n",
    "#defining the parameters of the experiment\n",
    "noFlip = 100\n",
    "prob = 0.5\n",
    "sampleSize = 1000\n",
    "\n",
    "#run the binomial function to determine the outcome\n",
    "x = rng.binomial(n=noFlip, p=prob, size=sampleSize)\n",
    "\n",
    "#print(x)\n",
    "\n",
    "#open an array to store the results of the probabilty of x heads in each 100 flips of the coin\n",
    "countHeads = [np.equal(x,i).mean() for i in range(noFlip)]\n",
    "\n",
    "print(countHeads)\n",
    "\n",
    "#plot the results\n",
    "sns.distplot(countHeads)"
   ]
  },
  {
   "cell_type": "code",
   "execution_count": null,
   "metadata": {},
   "outputs": [],
   "source": []
  },
  {
   "cell_type": "code",
   "execution_count": null,
   "metadata": {},
   "outputs": [],
   "source": []
  },
  {
   "cell_type": "code",
   "execution_count": null,
   "metadata": {},
   "outputs": [],
   "source": []
  },
  {
   "cell_type": "code",
   "execution_count": null,
   "metadata": {},
   "outputs": [],
   "source": []
  },
  {
   "cell_type": "code",
   "execution_count": null,
   "metadata": {},
   "outputs": [],
   "source": []
  },
  {
   "cell_type": "code",
   "execution_count": null,
   "metadata": {},
   "outputs": [],
   "source": []
  }
 ],
 "metadata": {
  "kernelspec": {
   "display_name": "Python 3",
   "language": "python",
   "name": "python3"
  },
  "language_info": {
   "codemirror_mode": {
    "name": "ipython",
    "version": 3
   },
   "file_extension": ".py",
   "mimetype": "text/x-python",
   "name": "python",
   "nbconvert_exporter": "python",
   "pygments_lexer": "ipython3",
   "version": "3.8.3"
  }
 },
 "nbformat": 4,
 "nbformat_minor": 4
}
