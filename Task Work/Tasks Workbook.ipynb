{
 "cells": [
  {
   "cell_type": "markdown",
   "metadata": {},
   "source": [
    "## Task Workbook - Fundamentals of Data Analysis\n",
    "#### Submitted by Sinéad Duffy, Student ID 10016151\n",
    "\n",
    "#### Task 1 - workings for counts function\n",
    "**Ask** - create a function called counts to take a list as input and returns a dictionary of the number of unique items in that list\n",
    "<br><br>\n",
    "The user of the program, enters an input into the input box.  For consistency, the string is converted into lower case characters using the *.lower()* method.  Next, the *.replace()* method is used to remove 'spaces' from the text.  This ensures that there is no empty container in the array taking up excess space or memory.  The array can hold and count numbers as well as punctuation characters when used in the input string.\n",
    "<br><br>\n",
    "The function *countsFunction*, takes the string inputted from the user.  It uses a *for statement* to loop through the string, *if* the character has alread been counted, then and addition number is added to the array called 'instanceOfChar'.  If the character has not already been counted, then the *else* step add's 1 to that charcters space in the array.  When the loop is complete, the counted array is then returned.\n",
    "<br><br>\n",
    "The print statement at the end of the program calls the function, and passes the string to it.  The results of the parsed array are then printed to the screen\n",
    "<br>\n",
    "References and workings are shown in Task 1 - Workings Notebook"
   ]
  },
  {
   "cell_type": "code",
   "execution_count": 10,
   "metadata": {},
   "outputs": [],
   "source": [
    "#libaries to be imported for the notebook\n",
    "import numpy as np\n",
    "from numpy.random import default_rng"
   ]
  },
  {
   "cell_type": "code",
   "execution_count": 9,
   "metadata": {},
   "outputs": [
    {
     "name": "stdout",
     "output_type": "stream",
     "text": [
      "{'h': 2, 'e': 2, 'l': 3, 'o': 2, 'w': 1, 'r': 1, 'd': 1, ',': 1, 't': 3, 'i': 2, 's': 3, 'a': 1}\n"
     ]
    }
   ],
   "source": [
    "string = \"Hello World, this is a test\"\n",
    "lowerCase = string.lower()\n",
    "string2 = lowerCase.replace(\" \",\"\")\n",
    "    \n",
    "instanceOfChar = {}\n",
    "for i in string2:\n",
    "    if i in instanceOfChar:\n",
    "        instanceOfChar[i] += 1\n",
    "    else:\n",
    "         instanceOfChar[i] = 1\n",
    "print(instanceOfChar)"
   ]
  },
  {
   "cell_type": "code",
   "execution_count": 11,
   "metadata": {},
   "outputs": [
    {
     "name": "stdout",
     "output_type": "stream",
     "text": [
      "Enter a sentence:hello \n",
      "{'h': 1, 'e': 1, 'l': 2, 'o': 1}\n"
     ]
    }
   ],
   "source": [
    "def countsFunction(string):\n",
    "    instanceOfChar = {}\n",
    "    for i in string2:\n",
    "        if i in instanceOfChar:\n",
    "            instanceOfChar[i] += 1\n",
    "        else:\n",
    "             instanceOfChar[i] = 1\n",
    "    return(instanceOfChar)\n",
    "\n",
    "string = input('Enter a sentence:')\n",
    "lowerCase = string.lower()\n",
    "string2 = lowerCase.replace(\" \",\"\")\n",
    "\n",
    "print(countsFunction(string2))"
   ]
  },
  {
   "cell_type": "markdown",
   "metadata": {},
   "source": [
    "#### Task 2 - workings for counts function\n",
    "**Ask** - create a function called *dicerolls* to take in two parameters, the number of dice *k*, and the number of times to roll the dice *n*.  Randomdully simulate rolling the *n* dice *k* times.  Return a dictionary with the number of possible total face vlaue occured.\n",
    "<br><br>\n",
    "\n",
    "<br><br>\n",
    "\n",
    "<br><br>\n",
    "\n",
    "<br>\n",
    "Further references and workings are shown in Task 2 - Workings Notebook"
   ]
  },
  {
   "cell_type": "code",
   "execution_count": null,
   "metadata": {},
   "outputs": [],
   "source": [
    "#enter user values to roll x times and x number of dice\n",
    "#NumRolls = 10\n",
    "NumRolls = int(input('Enter the number of rolls to be made:'))\n",
    "#NumDice = 3\n",
    "NumDice = int(input('Enter the number of dice to be rolled:'))\n",
    "DiceFace = 6\n",
    "#get the range of the dice .. add 1 to make sure the highest value of the die is included in the range.\n",
    "DiceRange = (NumDice * DiceFace) + 1\n",
    "#print(DiceRange)\n",
    "\n",
    "DiceResults = {}\n",
    "#roll the dice x number of times (as defined by the user)\n",
    "for x in range(1,NumRolls):\n",
    "    #calculate the random value of the roll (using a range of 1 to DiceRange)\n",
    "    roll = rng.integers(1,DiceRange)\n",
    "    #if the result in is in the array add one\n",
    "    if roll in DiceResults:\n",
    "        DiceResults[roll] += 1\n",
    "    #otherwise .. add to the array\n",
    "    else:\n",
    "        DiceResults[roll] = DiceResults[roll] = 1\n",
    "\n",
    "#DiceResults.sort(order=DiceRange)\n",
    "sorted(DiceResults.items(), key = lambda x: x[1])\n",
    "\n",
    "print(DiceResults)"
   ]
  },
  {
   "cell_type": "code",
   "execution_count": 14,
   "metadata": {},
   "outputs": [
    {
     "name": "stdout",
     "output_type": "stream",
     "text": [
      "Enter the number of rolls to be made:10000\n",
      "Enter the number of dice to be rolled:2\n",
      "{1: 850, 7: 872, 12: 849, 4: 820, 5: 815, 9: 805, 11: 808, 8: 861, 10: 822, 2: 891, 3: 797, 6: 809}\n"
     ]
    }
   ],
   "source": [
    "def dicerolls(x,k,DiceRange):\n",
    "    rng = default_rng()\n",
    "    DiceResults = {}\n",
    "    #roll the dice x number of times (as defined by the user)\n",
    "    for x in range(1,x):\n",
    "        #calculate the random value of the roll (using a range of 1 to DiceRange)\n",
    "        roll = rng.integers(1,DiceRange)\n",
    "        #if the result in is in the array add one\n",
    "        if roll in DiceResults:\n",
    "            DiceResults[roll] += 1\n",
    "        #otherwise .. add to the array\n",
    "        else:\n",
    "            DiceResults[roll] = DiceResults[roll] = 1\n",
    "        \n",
    "        #DiceResults.sort(order=DiceRange)\n",
    "        sorted(DiceResults.items(), key = lambda x: x[1])\n",
    "    return(DiceResults)\n",
    "\n",
    "#enter user values to roll x times and x number of dice\n",
    "x = int(input('Enter the number of rolls to be made:'))\n",
    "k = int(input('Enter the number of dice to be rolled:'))\n",
    "DiceFace = 6\n",
    "DiceRange = (k * DiceFace) + 1\n",
    "\n",
    "print(dicerolls(x,k,DiceRange))"
   ]
  },
  {
   "cell_type": "code",
   "execution_count": null,
   "metadata": {},
   "outputs": [],
   "source": []
  },
  {
   "cell_type": "code",
   "execution_count": null,
   "metadata": {},
   "outputs": [],
   "source": []
  },
  {
   "cell_type": "code",
   "execution_count": null,
   "metadata": {},
   "outputs": [],
   "source": []
  },
  {
   "cell_type": "code",
   "execution_count": null,
   "metadata": {},
   "outputs": [],
   "source": []
  },
  {
   "cell_type": "code",
   "execution_count": null,
   "metadata": {},
   "outputs": [],
   "source": []
  },
  {
   "cell_type": "code",
   "execution_count": null,
   "metadata": {},
   "outputs": [],
   "source": []
  },
  {
   "cell_type": "code",
   "execution_count": null,
   "metadata": {},
   "outputs": [],
   "source": []
  },
  {
   "cell_type": "code",
   "execution_count": null,
   "metadata": {},
   "outputs": [],
   "source": []
  }
 ],
 "metadata": {
  "kernelspec": {
   "display_name": "Python 3",
   "language": "python",
   "name": "python3"
  },
  "language_info": {
   "codemirror_mode": {
    "name": "ipython",
    "version": 3
   },
   "file_extension": ".py",
   "mimetype": "text/x-python",
   "name": "python",
   "nbconvert_exporter": "python",
   "pygments_lexer": "ipython3",
   "version": "3.8.3"
  }
 },
 "nbformat": 4,
 "nbformat_minor": 4
}
