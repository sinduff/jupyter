{
 "cells": [
  {
   "cell_type": "markdown",
   "metadata": {},
   "source": [
    "## Task 1 - workings for counts function##\n",
    "### Submitted by Sinéad Duffy, Student ID 10016151 ###\n",
    "\n",
    "**Ask** - create a function called counts to take a list as input and returns a dictionary of the number of unique items in that list"
   ]
  },
  {
   "cell_type": "markdown",
   "metadata": {},
   "source": [
    "**Step 1** - create a list of data for the code and display"
   ]
  },
  {
   "cell_type": "code",
   "execution_count": 1,
   "metadata": {},
   "outputs": [
    {
     "name": "stdout",
     "output_type": "stream",
     "text": [
      "['a', 'b', 'c', 'd', 'a', 'c', 'a', 'a']\n"
     ]
    }
   ],
   "source": [
    "testList = ['a', 'b', 'c' ,'d' ,'a' ,'c' ,'a', 'a']\n",
    "print(testList)"
   ]
  },
  {
   "cell_type": "markdown",
   "metadata": {},
   "source": [
    "**Step 2** - Create a dictionary with no values in it.\n",
    "\n",
    "Research - https://www.geeksforgeeks.org/python-ways-to-create-a-dictionary-of-lists/\n",
    "\n",
    "\n",
    "SortingDict = {}\n",
    "SortingDict = testList\n",
    "print(SortingDict)"
   ]
  },
  {
   "cell_type": "code",
   "execution_count": 2,
   "metadata": {},
   "outputs": [],
   "source": [
    "SortingDict = {}"
   ]
  },
  {
   "cell_type": "markdown",
   "metadata": {},
   "source": [
    "**Step 3** - counting the instances of items in a list\n",
    "\n",
    "Research - \n",
    "- using Count and Collections - https://www.geeksforgeeks.org/python-ways-to-create-a-dictionary-of-lists/\n",
    "- With Range and Len - https://www.tutorialspoint.com/count-occurrences-of-a-character-in-string-in-python\n",
    "- Counting a list using a nested for loop - https://www.youtube.com/watch?v=SeNkaZMrwIc\n",
    "- Counting the frequency of words - https://www.youtube.com/watch?v=9Qlr4dWTmis\n",
    "\n",
    "To capture user input user_str = input('Enter a sentence')\n",
    "put this in a list, and split it user_str.split()\n",
    "then put in a dictionary {}"
   ]
  },
  {
   "cell_type": "code",
   "execution_count": 3,
   "metadata": {},
   "outputs": [
    {
     "name": "stdout",
     "output_type": "stream",
     "text": [
      "There is 0 characters in the dictionary SortingDict\n"
     ]
    }
   ],
   "source": [
    "counter = 0\n",
    "for x in range(0,len(SortingDict)):\n",
    "    for y in range(0,len(SortingDict[x])):\n",
    "        counter = counter + 1\n",
    "print(\"There is\",counter, \"characters in the dictionary SortingDict\")"
   ]
  },
  {
   "cell_type": "code",
   "execution_count": 4,
   "metadata": {},
   "outputs": [
    {
     "name": "stdout",
     "output_type": "stream",
     "text": [
      "{'a': 4, 'b': 1, 'c': 2, 'd': 1}\n"
     ]
    }
   ],
   "source": [
    "for i in testList:\n",
    "    if i not in SortingDict.keys():\n",
    "        SortingDict[i]=0\n",
    "    SortingDict[i] = SortingDict[i] +1\n",
    "print(SortingDict)"
   ]
  },
  {
   "cell_type": "markdown",
   "metadata": {},
   "source": [
    "**Step 4** - Ask the user for an string of letters"
   ]
  },
  {
   "cell_type": "code",
   "execution_count": 5,
   "metadata": {},
   "outputs": [
    {
     "name": "stdout",
     "output_type": "stream",
     "text": [
      "Enter a sentence:hello world world hi\n",
      "{'a': 4, 'b': 1, 'c': 2, 'd': 1, 'hello': 1, 'world': 2, 'hi': 1}\n"
     ]
    }
   ],
   "source": [
    "userTest = input('Enter a sentence:')\n",
    "testList2 = userTest.split()\n",
    "\n",
    "for i in testList2:\n",
    "    if i not in SortingDict.keys():\n",
    "        SortingDict[i]=0\n",
    "    SortingDict[i] = SortingDict[i] +1\n",
    "print(SortingDict)"
   ]
  },
  {
   "cell_type": "markdown",
   "metadata": {},
   "source": [
    "**Step 5** - count the instances of letters in a string\n",
    "- Geek for Geeks, Python | Count occurrences of a character in string https://www.geeksforgeeks.org/python-count-occurrences-of-a-character-in-string/, accessed 18 November 2020\n",
    "- W3Schools, ReadLine(), https://www.w3schools.com/python/ref_file_readline.asp, accessed 18 November 2020\n",
    "- Python Library, readline - GNU readline interface, https://docs.python.org/3/library/readline.html#module-readline, accessed 18 November 2020\n",
    "- Geek for Geeks, Python | Remove spaces from a string, https://www.geeksforgeeks.org/python-remove-spaces-from-a-string/, accessed 05/12/2020\n",
    "- Stackoverflow.com, Counting Letter Frequency in a String (Python), https://stackoverflow.com/questions/40985203/counting-letter-frequency-in-a-string-python, accessed 05/12/2020\n",
    "- RealPython.com, Sets in Python, https://realpython.com/python-sets/, accessed 05/12/2020\n"
   ]
  },
  {
   "cell_type": "code",
   "execution_count": 15,
   "metadata": {},
   "outputs": [
    {
     "name": "stdout",
     "output_type": "stream",
     "text": [
      "Enter a sentence:hello world\n",
      "{'hello': 1, 'world': 1}\n"
     ]
    }
   ],
   "source": [
    "import readline\n",
    "\n",
    "userTest1 = input('Enter a sentence:')\n",
    "testList3 = userTest1.split()\n",
    "\n",
    "SortingDict2 = {}\n",
    "\n",
    "for i in testList3:\n",
    "    if i not in SortingDict2:\n",
    "        SortingDict2[i]=+1\n",
    "    else:\n",
    "        SortingDict2[i]=1\n",
    "print(SortingDict2)\n",
    "#print(testList2)"
   ]
  },
  {
   "cell_type": "code",
   "execution_count": null,
   "metadata": {},
   "outputs": [],
   "source": [
    "#testList3 = readline.get_line_buffer(userTest)\n",
    "#Print(testList2)\n",
    "\n",
    "#for i in testList3:\n",
    "#    if i not in SortingDict2.keys():\n",
    "#        SortingDict2[i]=1\n",
    "#    SortingDict2[i] = SortingDict2[i] +1\n",
    "#print(SortingDict2)\n",
    "#print(testList2)"
   ]
  },
  {
   "cell_type": "code",
   "execution_count": null,
   "metadata": {},
   "outputs": [],
   "source": [
    "#formula using .count\n",
    "def cout_char(string):\n",
    "    freqOfchar = {}\n",
    "    for character in set(string):\n",
    "        freqOfchar[chararacter] = string.count(character)\n",
    "    return freqOfchar\n",
    "\n",
    "userInput = input('Enter a sentence:')\n",
    "userString = userInput.lower()\n",
    "print(char_count(userString))\n"
   ]
  },
  {
   "cell_type": "code",
   "execution_count": 2,
   "metadata": {},
   "outputs": [
    {
     "name": "stdout",
     "output_type": "stream",
     "text": [
      "{'h': 2, 'e': 2, 'l': 3, 'o': 2, 'w': 1, 'r': 1, 'd': 1, ',': 1, 't': 3, 'i': 2, 's': 3, 'a': 1}\n"
     ]
    }
   ],
   "source": [
    "string = \"Hello World, this is a test\"\n",
    "lowerCase = string.lower()\n",
    "string2 = lowerCase.replace(\" \",\"\")\n",
    "    \n",
    "instanceOfChar = {}\n",
    "for i in string2:\n",
    "    if i in instanceOfChar:\n",
    "        instanceOfChar[i] += 1\n",
    "    else:\n",
    "         instanceOfChar[i] = 1\n",
    "print(instanceOfChar)"
   ]
  },
  {
   "cell_type": "code",
   "execution_count": null,
   "metadata": {},
   "outputs": [],
   "source": []
  }
 ],
 "metadata": {
  "kernelspec": {
   "display_name": "Python 3",
   "language": "python",
   "name": "python3"
  },
  "language_info": {
   "codemirror_mode": {
    "name": "ipython",
    "version": 3
   },
   "file_extension": ".py",
   "mimetype": "text/x-python",
   "name": "python",
   "nbconvert_exporter": "python",
   "pygments_lexer": "ipython3",
   "version": "3.8.3"
  }
 },
 "nbformat": 4,
 "nbformat_minor": 4
}
