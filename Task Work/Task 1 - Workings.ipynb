{
 "cells": [
  {
   "cell_type": "markdown",
   "metadata": {},
   "source": [
    "## Task 1 - workings for counts function##\n",
    "### Submitted by Sinéad Duffy, Student ID 10016151 ###\n",
    "\n",
    "**Ask** - create a function called counts to take a list as input and returns a dictionary of the number of unique items in that list"
   ]
  },
  {
   "cell_type": "markdown",
   "metadata": {},
   "source": [
    "**Step 1** - create a list of data for the code and display"
   ]
  },
  {
   "cell_type": "code",
   "execution_count": 1,
   "metadata": {},
   "outputs": [
    {
     "name": "stdout",
     "output_type": "stream",
     "text": [
      "['a', 'b', 'c', 'd', 'a', 'c', 'a', 'a']\n"
     ]
    }
   ],
   "source": [
    "testList = ['a', 'b', 'c' ,'d' ,'a' ,'c' ,'a', 'a']\n",
    "print(testList)"
   ]
  },
  {
   "cell_type": "markdown",
   "metadata": {},
   "source": [
    "**Step 2** - Create a dictionary with no values in it.\n",
    "\n",
    "Research - https://www.geeksforgeeks.org/python-ways-to-create-a-dictionary-of-lists/\n",
    "\n",
    "\n",
    "SortingDict = {}\n",
    "SortingDict = testList\n",
    "print(SortingDict)"
   ]
  },
  {
   "cell_type": "code",
   "execution_count": 15,
   "metadata": {},
   "outputs": [],
   "source": [
    "SortingDict = {}"
   ]
  },
  {
   "cell_type": "markdown",
   "metadata": {},
   "source": [
    "**Step 3** - counting the instances of items in a list\n",
    "\n",
    "Research - \n",
    "- using Count and Collections - https://www.geeksforgeeks.org/python-ways-to-create-a-dictionary-of-lists/\n",
    "- With Range and Len - https://www.tutorialspoint.com/count-occurrences-of-a-character-in-string-in-python\n",
    "- Counting a list using a nested for loop - https://www.youtube.com/watch?v=SeNkaZMrwIc\n",
    "- Counting the frequency of words - https://www.youtube.com/watch?v=9Qlr4dWTmis\n",
    "\n",
    "To capture user input user_str = input('Enter a sentence')\n",
    "put this in a list, and split it user_str.split()\n",
    "then put in a dictionary {}"
   ]
  },
  {
   "cell_type": "code",
   "execution_count": 11,
   "metadata": {},
   "outputs": [
    {
     "name": "stdout",
     "output_type": "stream",
     "text": [
      "There is 8 characters in the dictionary SortingDict\n"
     ]
    }
   ],
   "source": [
    "counter = 0\n",
    "for x in range(0,len(SortingDict)):\n",
    "    for y in range(0,len(SortingDict[x])):\n",
    "        counter = counter + 1\n",
    "print(\"There is\",counter, \"characters in the dictionary SortingDict\")"
   ]
  },
  {
   "cell_type": "code",
   "execution_count": 18,
   "metadata": {},
   "outputs": [
    {
     "name": "stdout",
     "output_type": "stream",
     "text": [
      "{'a': 8, 'b': 2, 'c': 4, 'd': 2}\n"
     ]
    }
   ],
   "source": [
    "for i in testList:\n",
    "    if i not in SortingDict.keys():\n",
    "        SortingDict[i]=0\n",
    "    SortingDict[i] = SortingDict[i] +1\n",
    "print(SortingDict)"
   ]
  },
  {
   "cell_type": "markdown",
   "metadata": {},
   "source": [
    "**Step 4** - Ask the user for an string of letters"
   ]
  },
  {
   "cell_type": "code",
   "execution_count": 21,
   "metadata": {},
   "outputs": [
    {
     "name": "stdout",
     "output_type": "stream",
     "text": [
      "Enter a sentenced k i k j o k g d k\n",
      "{'a': 8, 'b': 2, 'c': 4, 'd': 4, 'k': 4, 'i': 1, 'j': 1, 'o': 1, 'g': 1}\n"
     ]
    }
   ],
   "source": [
    "userTest = input('Enter a sentence:')\n",
    "testList2 = userTest.split()\n",
    "\n",
    "for i in testList2:\n",
    "    if i not in SortingDict.keys():\n",
    "        SortingDict[i]=0\n",
    "    SortingDict[i] = SortingDict[i] +1\n",
    "print(SortingDict)"
   ]
  },
  {
   "cell_type": "code",
   "execution_count": null,
   "metadata": {},
   "outputs": [],
   "source": []
  }
 ],
 "metadata": {
  "kernelspec": {
   "display_name": "Python 3",
   "language": "python",
   "name": "python3"
  },
  "language_info": {
   "codemirror_mode": {
    "name": "ipython",
    "version": 3
   },
   "file_extension": ".py",
   "mimetype": "text/x-python",
   "name": "python",
   "nbconvert_exporter": "python",
   "pygments_lexer": "ipython3",
   "version": "3.8.3"
  }
 },
 "nbformat": 4,
 "nbformat_minor": 4
}
