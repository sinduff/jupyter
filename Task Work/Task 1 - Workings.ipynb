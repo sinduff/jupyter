{
 "cells": [
  {
   "cell_type": "markdown",
   "metadata": {},
   "source": [
    "## Task 1 - workings for counts function##\n",
    "### Submitted by Sinéad Duffy, Student ID 10016151 ###\n",
    "\n",
    "**Ask** - create a function called counts to take a list as input and returns a dictionary of the number of unique items in that list"
   ]
  },
  {
   "cell_type": "markdown",
   "metadata": {},
   "source": [
    "**Step 1** - create a list of data for the code and display"
   ]
  },
  {
   "cell_type": "code",
   "execution_count": 1,
   "metadata": {},
   "outputs": [
    {
     "name": "stdout",
     "output_type": "stream",
     "text": [
      "['a', 'b', 'c', 'd', 'a', 'c', 'a', 'a']\n"
     ]
    }
   ],
   "source": [
    "testList = ['a', 'b', 'c' ,'d' ,'a' ,'c' ,'a', 'a']\n",
    "print(testList)"
   ]
  },
  {
   "cell_type": "markdown",
   "metadata": {},
   "source": [
    "**Step 2** - put the list into a dictionary\n",
    "\n",
    "Research - https://www.geeksforgeeks.org/python-ways-to-create-a-dictionary-of-lists/\n"
   ]
  },
  {
   "cell_type": "code",
   "execution_count": 3,
   "metadata": {},
   "outputs": [
    {
     "name": "stdout",
     "output_type": "stream",
     "text": [
      "['a', 'b', 'c', 'd', 'a', 'c', 'a', 'a']\n"
     ]
    }
   ],
   "source": [
    "SortingDict = {}\n",
    "SortingDict = testList\n",
    "print(SortingDict)"
   ]
  },
  {
   "cell_type": "markdown",
   "metadata": {},
   "source": [
    "**Step 3** - counting the instances of items in a list\n",
    "\n",
    "Research - \n",
    "- using Count and Collections - https://www.geeksforgeeks.org/python-ways-to-create-a-dictionary-of-lists/\n",
    "- With Range and Len - https://www.tutorialspoint.com/count-occurrences-of-a-character-in-string-in-python\n",
    "- Video for counting in a list using a for loop - https://www.youtube.com/watch?v=SeNkaZMrwIc"
   ]
  },
  {
   "cell_type": "code",
   "execution_count": null,
   "metadata": {},
   "outputs": [],
   "source": []
  }
 ],
 "metadata": {
  "kernelspec": {
   "display_name": "Python 3",
   "language": "python",
   "name": "python3"
  },
  "language_info": {
   "codemirror_mode": {
    "name": "ipython",
    "version": 3
   },
   "file_extension": ".py",
   "mimetype": "text/x-python",
   "name": "python",
   "nbconvert_exporter": "python",
   "pygments_lexer": "ipython3",
   "version": "3.8.3"
  }
 },
 "nbformat": 4,
 "nbformat_minor": 4
}
