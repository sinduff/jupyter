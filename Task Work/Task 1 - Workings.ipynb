{
 "cells": [
  {
   "cell_type": "markdown",
   "metadata": {},
   "source": [
    "## Task 1 - workings for counts function##\n",
    "### Submitted by Sinéad Duffy, Student ID 10016151 ###\n",
    "\n",
    "**Ask** - create a function called counts to take a list as input and returns a dictionary of the number of unique items in that list"
   ]
  },
  {
   "cell_type": "markdown",
   "metadata": {},
   "source": [
    "**Step 1** - create a list of data for the code and display"
   ]
  },
  {
   "cell_type": "code",
   "execution_count": 5,
   "metadata": {},
   "outputs": [
    {
     "name": "stdout",
     "output_type": "stream",
     "text": [
      "['a', 'b', 'c', 'd', 'a', 'c', 'a', 'a']\n"
     ]
    }
   ],
   "source": [
    "testList = ['a', 'b', 'c' ,'d' ,'a' ,'c' ,'a', 'a']\n",
    "print(testList)"
   ]
  },
  {
   "cell_type": "markdown",
   "metadata": {},
   "source": [
    "**Step 2** - Create a dictionary with no values in it.\n",
    "\n",
    "Research - https://www.geeksforgeeks.org/python-ways-to-create-a-dictionary-of-lists/\n",
    "\n",
    "\n",
    "SortingDict = {}\n",
    "SortingDict = testList\n",
    "print(SortingDict)"
   ]
  },
  {
   "cell_type": "code",
   "execution_count": 6,
   "metadata": {},
   "outputs": [],
   "source": [
    "SortingDict = {}"
   ]
  },
  {
   "cell_type": "markdown",
   "metadata": {},
   "source": [
    "**Step 3** - counting the instances of items in a list\n",
    "\n",
    "Research - \n",
    "- using Count and Collections - https://www.geeksforgeeks.org/python-ways-to-create-a-dictionary-of-lists/\n",
    "- With Range and Len - https://www.tutorialspoint.com/count-occurrences-of-a-character-in-string-in-python\n",
    "- Counting a list using a nested for loop - https://www.youtube.com/watch?v=SeNkaZMrwIc\n",
    "- Counting the frequency of words - https://www.youtube.com/watch?v=9Qlr4dWTmis\n",
    "\n",
    "To capture user input user_str = input('Enter a sentence')\n",
    "put this in a list, and split it user_str.split()\n",
    "then put in a dictionary {}"
   ]
  },
  {
   "cell_type": "code",
   "execution_count": 12,
   "metadata": {},
   "outputs": [
    {
     "ename": "KeyError",
     "evalue": "0",
     "output_type": "error",
     "traceback": [
      "\u001b[1;31m---------------------------------------------------------------------------\u001b[0m",
      "\u001b[1;31mKeyError\u001b[0m                                  Traceback (most recent call last)",
      "\u001b[1;32m<ipython-input-12-672e4258ee4b>\u001b[0m in \u001b[0;36m<module>\u001b[1;34m\u001b[0m\n\u001b[0;32m      1\u001b[0m \u001b[0mcounter\u001b[0m \u001b[1;33m=\u001b[0m \u001b[1;36m0\u001b[0m\u001b[1;33m\u001b[0m\u001b[1;33m\u001b[0m\u001b[0m\n\u001b[0;32m      2\u001b[0m \u001b[1;32mfor\u001b[0m \u001b[0mx\u001b[0m \u001b[1;32min\u001b[0m \u001b[0mrange\u001b[0m\u001b[1;33m(\u001b[0m\u001b[1;36m0\u001b[0m\u001b[1;33m,\u001b[0m\u001b[0mlen\u001b[0m\u001b[1;33m(\u001b[0m\u001b[0mSortingDict\u001b[0m\u001b[1;33m)\u001b[0m\u001b[1;33m)\u001b[0m\u001b[1;33m:\u001b[0m\u001b[1;33m\u001b[0m\u001b[1;33m\u001b[0m\u001b[0m\n\u001b[1;32m----> 3\u001b[1;33m     \u001b[1;32mfor\u001b[0m \u001b[0my\u001b[0m \u001b[1;32min\u001b[0m \u001b[0mrange\u001b[0m\u001b[1;33m(\u001b[0m\u001b[1;36m0\u001b[0m\u001b[1;33m,\u001b[0m\u001b[0mlen\u001b[0m\u001b[1;33m(\u001b[0m\u001b[0mSortingDict\u001b[0m\u001b[1;33m[\u001b[0m\u001b[0mx\u001b[0m\u001b[1;33m]\u001b[0m\u001b[1;33m)\u001b[0m\u001b[1;33m)\u001b[0m\u001b[1;33m:\u001b[0m\u001b[1;33m\u001b[0m\u001b[1;33m\u001b[0m\u001b[0m\n\u001b[0m\u001b[0;32m      4\u001b[0m         \u001b[0mcounter\u001b[0m \u001b[1;33m=\u001b[0m \u001b[0mcounter\u001b[0m \u001b[1;33m+\u001b[0m \u001b[1;36m1\u001b[0m\u001b[1;33m\u001b[0m\u001b[1;33m\u001b[0m\u001b[0m\n\u001b[0;32m      5\u001b[0m \u001b[0mprint\u001b[0m\u001b[1;33m(\u001b[0m\u001b[1;34m\"There is\"\u001b[0m\u001b[1;33m,\u001b[0m\u001b[0mcounter\u001b[0m\u001b[1;33m,\u001b[0m \u001b[1;34m\"characters in the dictionary SortingDict\"\u001b[0m\u001b[1;33m)\u001b[0m\u001b[1;33m\u001b[0m\u001b[1;33m\u001b[0m\u001b[0m\n",
      "\u001b[1;31mKeyError\u001b[0m: 0"
     ]
    }
   ],
   "source": [
    "counter = 0\n",
    "for x in range(0,len(SortingDict)):\n",
    "    for y in range(0,len(SortingDict[x])):\n",
    "        counter = counter + 1\n",
    "print(\"There is\",counter, \"characters in the dictionary SortingDict\")"
   ]
  },
  {
   "cell_type": "code",
   "execution_count": 8,
   "metadata": {},
   "outputs": [
    {
     "name": "stdout",
     "output_type": "stream",
     "text": [
      "{'a': 4, 'b': 1, 'c': 2, 'd': 1}\n"
     ]
    }
   ],
   "source": [
    "for i in testList:\n",
    "    if i not in SortingDict.keys():\n",
    "        SortingDict[i]=0\n",
    "    SortingDict[i] = SortingDict[i] +1\n",
    "print(SortingDict)"
   ]
  },
  {
   "cell_type": "markdown",
   "metadata": {},
   "source": [
    "**Step 4** - Ask the user for an string of letters"
   ]
  },
  {
   "cell_type": "code",
   "execution_count": 9,
   "metadata": {},
   "outputs": [
    {
     "name": "stdout",
     "output_type": "stream",
     "text": [
      "Enter a sentence:hskdo eoeis sw;seo0e \n",
      "{'a': 4, 'b': 1, 'c': 2, 'd': 1, 'hskdo': 1, 'eoeis': 1, 'sw;seo0e': 1}\n"
     ]
    }
   ],
   "source": [
    "userTest = input('Enter a sentence:')\n",
    "testList2 = userTest.split()\n",
    "\n",
    "for i in testList2:\n",
    "    if i not in SortingDict.keys():\n",
    "        SortingDict[i]=0\n",
    "    SortingDict[i] = SortingDict[i] +1\n",
    "print(SortingDict)"
   ]
  },
  {
   "cell_type": "markdown",
   "metadata": {},
   "source": [
    "**Step 5** - count the instances of letters in a string\n",
    "- Geek for Geeks, Python | Count occurrences of a character in string https://www.geeksforgeeks.org/python-count-occurrences-of-a-character-in-string/, accessed 18 November 2020\n",
    "- W3Schools, ReadLine(), https://www.w3schools.com/python/ref_file_readline.asp, accessed 18 November 2020\n",
    "- Python Library, readline - GNU readline interface, https://docs.python.org/3/library/readline.html#module-readline, accessed 18 November 2020"
   ]
  },
  {
   "cell_type": "code",
   "execution_count": 11,
   "metadata": {},
   "outputs": [
    {
     "name": "stdout",
     "output_type": "stream",
     "text": [
      "Enter a sentence:hello hello hi\n"
     ]
    },
    {
     "ename": "NameError",
     "evalue": "name 'SortingDict2' is not defined",
     "output_type": "error",
     "traceback": [
      "\u001b[1;31m---------------------------------------------------------------------------\u001b[0m",
      "\u001b[1;31mNameError\u001b[0m                                 Traceback (most recent call last)",
      "\u001b[1;32m<ipython-input-11-f798f570768a>\u001b[0m in \u001b[0;36m<module>\u001b[1;34m\u001b[0m\n\u001b[0;32m      7\u001b[0m \u001b[1;33m\u001b[0m\u001b[0m\n\u001b[0;32m      8\u001b[0m \u001b[1;32mfor\u001b[0m \u001b[0mi\u001b[0m \u001b[1;32min\u001b[0m \u001b[0mtestList3\u001b[0m\u001b[1;33m:\u001b[0m\u001b[1;33m\u001b[0m\u001b[1;33m\u001b[0m\u001b[0m\n\u001b[1;32m----> 9\u001b[1;33m     \u001b[1;32mif\u001b[0m \u001b[0mi\u001b[0m \u001b[1;32mnot\u001b[0m \u001b[1;32min\u001b[0m \u001b[0mSortingDict2\u001b[0m\u001b[1;33m.\u001b[0m\u001b[0mkeys\u001b[0m\u001b[1;33m(\u001b[0m\u001b[1;33m)\u001b[0m\u001b[1;33m:\u001b[0m\u001b[1;33m\u001b[0m\u001b[1;33m\u001b[0m\u001b[0m\n\u001b[0m\u001b[0;32m     10\u001b[0m         \u001b[0mSortingDict2\u001b[0m\u001b[1;33m[\u001b[0m\u001b[0mi\u001b[0m\u001b[1;33m]\u001b[0m\u001b[1;33m=\u001b[0m\u001b[1;36m0\u001b[0m\u001b[1;33m\u001b[0m\u001b[1;33m\u001b[0m\u001b[0m\n\u001b[0;32m     11\u001b[0m     \u001b[0mSortingDict2\u001b[0m\u001b[1;33m[\u001b[0m\u001b[0mi\u001b[0m\u001b[1;33m]\u001b[0m \u001b[1;33m=\u001b[0m \u001b[0mSortingDict2\u001b[0m\u001b[1;33m[\u001b[0m\u001b[0mi\u001b[0m\u001b[1;33m]\u001b[0m \u001b[1;33m+\u001b[0m\u001b[1;36m1\u001b[0m\u001b[1;33m\u001b[0m\u001b[1;33m\u001b[0m\u001b[0m\n",
      "\u001b[1;31mNameError\u001b[0m: name 'SortingDict2' is not defined"
     ]
    }
   ],
   "source": [
    "import readline\n",
    "\n",
    "userTest1 = input('Enter a sentence:')\n",
    "testList3 = userTest1.split()\n",
    "\n",
    "#testList3 = readline.get_line_buffer(userTest)\n",
    "#Print(testList2)\n",
    "\n",
    "for i in testList3:\n",
    "    if i not in SortingDict2.keys():\n",
    "        SortingDict2[i]=0\n",
    "    SortingDict2[i] = SortingDict2[i] +1\n",
    "print(SortingDict2)\n",
    "#print(testList2)"
   ]
  },
  {
   "cell_type": "code",
   "execution_count": null,
   "metadata": {},
   "outputs": [],
   "source": []
  }
 ],
 "metadata": {
  "kernelspec": {
   "display_name": "Python 3",
   "language": "python",
   "name": "python3"
  },
  "language_info": {
   "codemirror_mode": {
    "name": "ipython",
    "version": 3
   },
   "file_extension": ".py",
   "mimetype": "text/x-python",
   "name": "python",
   "nbconvert_exporter": "python",
   "pygments_lexer": "ipython3",
   "version": "3.8.3"
  }
 },
 "nbformat": 4,
 "nbformat_minor": 4
}
