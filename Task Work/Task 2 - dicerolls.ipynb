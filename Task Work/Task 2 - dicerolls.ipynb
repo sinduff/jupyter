{
 "cells": [
  {
   "cell_type": "markdown",
   "metadata": {},
   "source": [
    "## Task 2 - workings for roll a dice multiple times##\n",
    "### Submitted by Sinéad Duffy, Student ID 10016151 ###\n",
    "\n",
    "**Ask** - create a program that will roll a number of dice, a number of times, and return the values of each roll in an array"
   ]
  },
  {
   "cell_type": "markdown",
   "metadata": {},
   "source": [
    "Step 1 - roll 1 dice multiple times"
   ]
  },
  {
   "cell_type": "code",
   "execution_count": 2,
   "metadata": {},
   "outputs": [
    {
     "name": "stdout",
     "output_type": "stream",
     "text": [
      "The total of 3 rolls of 1 dice is : 14\n"
     ]
    }
   ],
   "source": [
    "import numpy as np\n",
    "\n",
    "rng = np.random.default_rng()\n",
    "rollDice = rng.integers(1,7, size = 3)\n",
    "print (\"The total of 3 rolls of 1 dice is :\", np.sum(rollDice))"
   ]
  },
  {
   "cell_type": "markdown",
   "metadata": {},
   "source": [
    "Step 2 - create the variables to hold the number of dice to roll, and times to roll it."
   ]
  },
  {
   "cell_type": "code",
   "execution_count": 3,
   "metadata": {},
   "outputs": [
    {
     "ename": "AttributeError",
     "evalue": "'dict' object has no attribute 'append'",
     "output_type": "error",
     "traceback": [
      "\u001b[1;31m---------------------------------------------------------------------------\u001b[0m",
      "\u001b[1;31mAttributeError\u001b[0m                            Traceback (most recent call last)",
      "\u001b[1;32m<ipython-input-3-bcbe08d29a41>\u001b[0m in \u001b[0;36m<module>\u001b[1;34m\u001b[0m\n\u001b[0;32m     13\u001b[0m \u001b[1;33m\u001b[0m\u001b[0m\n\u001b[0;32m     14\u001b[0m \u001b[1;32mfor\u001b[0m \u001b[0mi\u001b[0m \u001b[1;32min\u001b[0m \u001b[0mrange\u001b[0m\u001b[1;33m(\u001b[0m\u001b[1;36m0\u001b[0m\u001b[1;33m,\u001b[0m\u001b[0ml\u001b[0m\u001b[1;33m)\u001b[0m\u001b[1;33m:\u001b[0m\u001b[1;33m\u001b[0m\u001b[1;33m\u001b[0m\u001b[0m\n\u001b[1;32m---> 15\u001b[1;33m     \u001b[0mDice_dict\u001b[0m\u001b[1;33m.\u001b[0m\u001b[0mappend\u001b[0m\u001b[1;33m\u001b[0m\u001b[1;33m\u001b[0m\u001b[0m\n\u001b[0m\u001b[0;32m     16\u001b[0m \u001b[0mprint\u001b[0m\u001b[1;33m(\u001b[0m\u001b[0mDice_dict\u001b[0m\u001b[1;33m)\u001b[0m\u001b[1;33m\u001b[0m\u001b[1;33m\u001b[0m\u001b[0m\n\u001b[0;32m     17\u001b[0m \u001b[1;31m#DiceArray = [[0 for i in range(NumDice)] for j in range(DiceFace)]\u001b[0m\u001b[1;33m\u001b[0m\u001b[1;33m\u001b[0m\u001b[1;33m\u001b[0m\u001b[0m\n",
      "\u001b[1;31mAttributeError\u001b[0m: 'dict' object has no attribute 'append'"
     ]
    }
   ],
   "source": [
    "#NumDice = int(input('Enter the number of dice to roll:'))\n",
    "#Rolls = int(input('Enter the number of times to roll the dice:'))\n",
    "NumRolls = 10\n",
    "NumDice = 2\n",
    "DiceFace = 6\n",
    "\n",
    "#list possible values of the dice and -1 to allow for 0 position in the list\n",
    "l = int(NumDice * DiceFace)-1\n",
    "#sanity check\n",
    "#print(DiceValueRnage)\n",
    "\n",
    "Dice_dict = {}\n",
    "\n",
    "for i in range(0,l):\n",
    "    Dice_dict.append\n",
    "print(Dice_dict)\n",
    "#DiceArray = [[0 for i in range(NumDice)] for j in range(DiceFace)]\n",
    "#print(DiceArray)"
   ]
  },
  {
   "cell_type": "code",
   "execution_count": 4,
   "metadata": {},
   "outputs": [
    {
     "name": "stdout",
     "output_type": "stream",
     "text": [
      "The total of 10 rolls of 2 dice is : 40\n"
     ]
    }
   ],
   "source": [
    "#roll the dice \n",
    "for rolls in range(NumRolls):\n",
    "    rollDice = 0\n",
    "    for dice in range(NumDice):\n",
    "        rollDice = rng.integers(1,7, size = 10)\n",
    "print (\"The total of\", NumRolls, \"rolls of\",  NumDice,  \"dice is :\", np.sum(rollDice))\n"
   ]
  },
  {
   "cell_type": "code",
   "execution_count": 15,
   "metadata": {},
   "outputs": [
    {
     "ename": "TypeError",
     "evalue": "unhashable type: 'numpy.ndarray'",
     "output_type": "error",
     "traceback": [
      "\u001b[1;31m---------------------------------------------------------------------------\u001b[0m",
      "\u001b[1;31mTypeError\u001b[0m                                 Traceback (most recent call last)",
      "\u001b[1;32m<ipython-input-15-c229dc9edbca>\u001b[0m in \u001b[0;36m<module>\u001b[1;34m\u001b[0m\n\u001b[0;32m      2\u001b[0m \u001b[1;32mfor\u001b[0m \u001b[0mx\u001b[0m \u001b[1;32min\u001b[0m \u001b[0mrollDice\u001b[0m\u001b[1;33m:\u001b[0m\u001b[1;33m\u001b[0m\u001b[1;33m\u001b[0m\u001b[0m\n\u001b[0;32m      3\u001b[0m     \u001b[0mroll\u001b[0m \u001b[1;33m=\u001b[0m \u001b[0mrng\u001b[0m\u001b[1;33m.\u001b[0m\u001b[0mintegers\u001b[0m\u001b[1;33m(\u001b[0m\u001b[1;36m1\u001b[0m\u001b[1;33m,\u001b[0m\u001b[1;36m7\u001b[0m\u001b[1;33m,\u001b[0m \u001b[0msize\u001b[0m \u001b[1;33m=\u001b[0m \u001b[1;36m10\u001b[0m\u001b[1;33m)\u001b[0m\u001b[1;33m\u001b[0m\u001b[1;33m\u001b[0m\u001b[0m\n\u001b[1;32m----> 4\u001b[1;33m     \u001b[1;32mif\u001b[0m \u001b[0mroll\u001b[0m \u001b[1;32min\u001b[0m \u001b[0mDice_dict\u001b[0m\u001b[1;33m:\u001b[0m\u001b[1;33m\u001b[0m\u001b[1;33m\u001b[0m\u001b[0m\n\u001b[0m\u001b[0;32m      5\u001b[0m         \u001b[0mDice_dict\u001b[0m\u001b[1;33m[\u001b[0m\u001b[0mroll\u001b[0m\u001b[1;33m]\u001b[0m \u001b[1;33m+=\u001b[0m \u001b[1;36m1\u001b[0m\u001b[1;33m\u001b[0m\u001b[1;33m\u001b[0m\u001b[0m\n\u001b[0;32m      6\u001b[0m     \u001b[1;32melse\u001b[0m\u001b[1;33m:\u001b[0m\u001b[1;33m\u001b[0m\u001b[1;33m\u001b[0m\u001b[0m\n",
      "\u001b[1;31mTypeError\u001b[0m: unhashable type: 'numpy.ndarray'"
     ]
    }
   ],
   "source": [
    "#put values of rollDice into an array\n",
    "for x in rollDice:\n",
    "    roll = rng.integers(1,7, size = 10)\n",
    "    if roll in Dice_dict:\n",
    "        Dice_dict[roll] += 1\n",
    "    else:\n",
    "        Dice_dict[roll] = Dice_dict[roll] = 0\n",
    "print(Dice_dict)"
   ]
  },
  {
   "cell_type": "code",
   "execution_count": 18,
   "metadata": {},
   "outputs": [
    {
     "name": "stdout",
     "output_type": "stream",
     "text": [
      "{8: 1, 9: 2, 11: 3, 7: 2, 6: 1}\n"
     ]
    }
   ],
   "source": [
    "#try to get the data to print out in a list\n",
    "DiceResults = {}\n",
    "for x in range(1,10):\n",
    "    roll = rng.integers(1,13)\n",
    "    if roll in DiceResults:\n",
    "        DiceResults[roll] += 1\n",
    "    else:\n",
    "        DiceResults[roll] = DiceResults[roll] = 1\n",
    "print(DiceResults)"
   ]
  },
  {
   "cell_type": "code",
   "execution_count": 28,
   "metadata": {},
   "outputs": [
    {
     "name": "stdout",
     "output_type": "stream",
     "text": [
      "Enter the number of rolls to be made:10\n",
      "Enter the number of dice to be rolled:2\n",
      "{8: 2, 10: 2, 9: 1, 7: 2, 6: 1, 4: 1}\n"
     ]
    }
   ],
   "source": [
    "#enter user values to roll x times and x number of dice\n",
    "#NumRolls = 10\n",
    "NumRolls = int(input('Enter the number of rolls to be made:'))\n",
    "#NumDice = 3\n",
    "NumDice = int(input('Enter the number of dice to be rolled:'))\n",
    "DiceFace = 6\n",
    "#get the range of the dice .. add 1 to make sure the highest value of the die is included in the range.\n",
    "DiceRange = (NumDice * DiceFace) + 1\n",
    "#print(DiceRange)\n",
    "\n",
    "DiceResults = {}\n",
    "#roll the dice x number of times (as defined by the user)\n",
    "for x in range(1,NumRolls):\n",
    "    #calculate the random value of the roll (using a range of 1 to DiceRange)\n",
    "    roll = rng.integers(1,DiceRange)\n",
    "    #if the result in is in the array add one\n",
    "    if roll in DiceResults:\n",
    "        DiceResults[roll] += 1\n",
    "    #otherwise .. add to the array\n",
    "    else:\n",
    "        DiceResults[roll] = DiceResults[roll] = 1\n",
    "\n",
    "#DiceResults.sort(order=DiceRange)\n",
    "sorted(DiceResults.items(), key = lambda x: x[1])\n",
    "\n",
    "print(DiceResults)"
   ]
  },
  {
   "cell_type": "markdown",
   "metadata": {},
   "source": [
    "#### References####\n",
    "1. YouTube - Numpy.random.default_rng(), https://www.youtube.com/watch?v=ryvY3RJucag, accessed 17 November 2020\n",
    "2. MathWorks - Multiple Dice Rolls Help, https://www.mathworks.com/matlabcentral/answers/54314-multiple-dice-rolls-help, accessed 18 November 2020\n",
    "3. Geek for Geeks, 2d Arrays, https://www.geeksforgeeks.org/python-using-2d-arrays-lists-the-right-way/, accessed 18 November 2020\n",
    "4. Stackoverflow.com, How to print values in an array in order after sorted indexes in python, https://stackoverflow.com/questions/51354466/how-to-print-values-in-an-array-in-order-after-sorted-indexes-in-python, accessed 10 December 2020 \n",
    "5. Stackoverflow.com, How do I sort a dictionary by value?, https://stackoverflow.com/questions/613183/how-do-i-sort-a-dictionary-by-value, accessed 10 December 2020"
   ]
  },
  {
   "cell_type": "code",
   "execution_count": 9,
   "metadata": {},
   "outputs": [
    {
     "name": "stdout",
     "output_type": "stream",
     "text": [
      "Enter a sentence:dldi\n",
      "{'d': 2, 'l': 1, 'i': 1}\n"
     ]
    }
   ],
   "source": [
    "def countsFunction(string2):\n",
    "    instanceOfChar = {}\n",
    "    for i in string2:\n",
    "        if i in instanceOfChar:\n",
    "            instanceOfChar[i] += 1\n",
    "        else:\n",
    "             instanceOfChar[i] = 1\n",
    "    return(instanceOfChar)\n",
    "\n",
    "string = input('Enter a sentence:')\n",
    "lowerCase = string.lower()\n",
    "string2 = lowerCase.replace(\" \",\"\")\n",
    "\n",
    "print(countsFunction(string2))"
   ]
  },
  {
   "cell_type": "code",
   "execution_count": null,
   "metadata": {},
   "outputs": [],
   "source": []
  }
 ],
 "metadata": {
  "kernelspec": {
   "display_name": "Python 3",
   "language": "python",
   "name": "python3"
  },
  "language_info": {
   "codemirror_mode": {
    "name": "ipython",
    "version": 3
   },
   "file_extension": ".py",
   "mimetype": "text/x-python",
   "name": "python",
   "nbconvert_exporter": "python",
   "pygments_lexer": "ipython3",
   "version": "3.8.3"
  }
 },
 "nbformat": 4,
 "nbformat_minor": 4
}
