{
 "cells": [
  {
   "cell_type": "markdown",
   "metadata": {},
   "source": [
    "## Task 2 - workings for roll a dice multiple times##\n",
    "### Submitted by Sinéad Duffy, Student ID 10016151 ###\n",
    "\n",
    "**Ask** - create a program that will roll a number of dice, a number of times, and return the values of each roll in an array"
   ]
  },
  {
   "cell_type": "markdown",
   "metadata": {},
   "source": [
    "Step 1 - roll 1 dice multiple times"
   ]
  },
  {
   "cell_type": "code",
   "execution_count": 7,
   "metadata": {},
   "outputs": [
    {
     "name": "stdout",
     "output_type": "stream",
     "text": [
      "The total of 3 rolls of 1 dice is : 7\n"
     ]
    }
   ],
   "source": [
    "import numpy as np\n",
    "\n",
    "rng = np.random.default_rng()\n",
    "rollDice = rng.integers(1,7, size = 3)\n",
    "print (\"The total of 3 rolls of 1 dice is :\", np.sum(rollDice))"
   ]
  },
  {
   "cell_type": "markdown",
   "metadata": {},
   "source": [
    "Step 2 - create the variables to hold the number of dice to roll, and times to roll it."
   ]
  },
  {
   "cell_type": "code",
   "execution_count": 41,
   "metadata": {},
   "outputs": [
    {
     "name": "stdout",
     "output_type": "stream",
     "text": [
      "[[0, 0], [0, 0], [0, 0], [0, 0], [0, 0], [0, 0]]\n"
     ]
    }
   ],
   "source": [
    "#NumDice = int(input('Enter the number of dice to roll:'))\n",
    "#Rolls = int(input('Enter the number of times to roll the dice:'))\n",
    "NumRolls = 10\n",
    "NumDice = 2\n",
    "DiceFace = 6\n",
    "DiceArray = []\n",
    "#DiceArray = [[0 for i in range(NumDice)] for j in range(DiceFace)]\n",
    "#print(DiceArray)"
   ]
  },
  {
   "cell_type": "code",
   "execution_count": 45,
   "metadata": {},
   "outputs": [
    {
     "name": "stdout",
     "output_type": "stream",
     "text": [
      "The total of 10 rolls of  2 dice is : 45\n"
     ]
    }
   ],
   "source": [
    "#roll the dice \n",
    "for rolls in range(NumRolls):\n",
    "    rollDice = 0\n",
    "    for dice in range(NumDice):\n",
    "        rollDice = rng.integers(1,7, size = 10)\n",
    "print (\"The total of 10 rolls of \",  NumDice,  \"dice is :\", np.sum(rollDice))\n"
   ]
  },
  {
   "cell_type": "code",
   "execution_count": 52,
   "metadata": {},
   "outputs": [
    {
     "ename": "SyntaxError",
     "evalue": "invalid syntax (<ipython-input-52-bf3cf8c1341b>, line 3)",
     "output_type": "error",
     "traceback": [
      "\u001b[1;36m  File \u001b[1;32m\"<ipython-input-52-bf3cf8c1341b>\"\u001b[1;36m, line \u001b[1;32m3\u001b[0m\n\u001b[1;33m    if rolls not in DiceArray[]\u001b[0m\n\u001b[1;37m                              ^\u001b[0m\n\u001b[1;31mSyntaxError\u001b[0m\u001b[1;31m:\u001b[0m invalid syntax\n"
     ]
    }
   ],
   "source": [
    "#put values of rollDice into an array\n",
    "for rolls in rollDice:\n",
    "    if rolls not in DiceArray[]\n",
    "        DiceArray[rolls]=0\n",
    "    DiceArray[rolls] = DiceArray[rolls] +1\n",
    "print(DiceArray)"
   ]
  },
  {
   "cell_type": "code",
   "execution_count": null,
   "metadata": {},
   "outputs": [],
   "source": []
  },
  {
   "cell_type": "markdown",
   "metadata": {},
   "source": [
    "#### References####\n",
    "1. YouTube - Numpy.random.default_rng(), https://www.youtube.com/watch?v=ryvY3RJucag, accessed 17 November 2020\n",
    "2. MathWorks - Multiple Dice Rolls Help, https://www.mathworks.com/matlabcentral/answers/54314-multiple-dice-rolls-help, accessed 18 November 2020\n",
    "3. Geek for Geeks, 2d Arrays, https://www.geeksforgeeks.org/python-using-2d-arrays-lists-the-right-way/, accessed 18 November 2020"
   ]
  },
  {
   "cell_type": "code",
   "execution_count": null,
   "metadata": {},
   "outputs": [],
   "source": []
  }
 ],
 "metadata": {
  "kernelspec": {
   "display_name": "Python 3",
   "language": "python",
   "name": "python3"
  },
  "language_info": {
   "codemirror_mode": {
    "name": "ipython",
    "version": 3
   },
   "file_extension": ".py",
   "mimetype": "text/x-python",
   "name": "python",
   "nbconvert_exporter": "python",
   "pygments_lexer": "ipython3",
   "version": "3.8.3"
  }
 },
 "nbformat": 4,
 "nbformat_minor": 4
}
