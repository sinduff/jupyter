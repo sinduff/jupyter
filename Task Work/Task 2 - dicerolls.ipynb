{
 "cells": [
  {
   "cell_type": "markdown",
   "metadata": {},
   "source": [
    "## Task 2 - workings for roll a dice multiple times##\n",
    "### Submitted by Sinéad Duffy, Student ID 10016151 ###\n",
    "\n",
    "**Ask** - create a program that will roll a number of dice, a number of times, and return the values of each roll in an array"
   ]
  },
  {
   "cell_type": "markdown",
   "metadata": {},
   "source": [
    "Step 1 - roll 1 dice multiple times"
   ]
  },
  {
   "cell_type": "code",
   "execution_count": 1,
   "metadata": {},
   "outputs": [
    {
     "name": "stdout",
     "output_type": "stream",
     "text": [
      "The total of 3 rolls of 1 dice is : 8\n"
     ]
    }
   ],
   "source": [
    "import numpy as np\n",
    "\n",
    "rng = np.random.default_rng()\n",
    "rollDice = rng.integers(1,7, size = 3)\n",
    "print (\"The total of 3 rolls of 1 dice is :\", np.sum(rollDice))"
   ]
  },
  {
   "cell_type": "markdown",
   "metadata": {},
   "source": [
    "Step 2 - create the variables to hold the number of dice to roll, and times to roll it."
   ]
  },
  {
   "cell_type": "code",
   "execution_count": 25,
   "metadata": {},
   "outputs": [
    {
     "name": "stdout",
     "output_type": "stream",
     "text": [
      "[range(0, 11)]\n"
     ]
    }
   ],
   "source": [
    "#NumDice = int(input('Enter the number of dice to roll:'))\n",
    "#Rolls = int(input('Enter the number of times to roll the dice:'))\n",
    "NumRolls = 10\n",
    "NumDice = 2\n",
    "DiceFace = 6\n",
    "\n",
    "#list possible values of the dice and -1 to allow for 0 position in the list\n",
    "l = int(NumDice * DiceFace)-1\n",
    "#sanity check\n",
    "#print(DiceValueRnage)\n",
    "\n",
    "Dice_dict = {}\n",
    "\n",
    "for i in range(0,l):\n",
    "    Dice_dict.append\n",
    "print(Dice_dict)\n",
    "#DiceArray = [[0 for i in range(NumDice)] for j in range(DiceFace)]\n",
    "#print(DiceArray)"
   ]
  },
  {
   "cell_type": "code",
   "execution_count": 11,
   "metadata": {},
   "outputs": [
    {
     "name": "stdout",
     "output_type": "stream",
     "text": [
      "The total of 10 rolls of 2 dice is : 30\n"
     ]
    }
   ],
   "source": [
    "#roll the dice \n",
    "for rolls in range(NumRolls):\n",
    "    rollDice = 0\n",
    "    for dice in range(NumDice):\n",
    "        rollDice = rng.integers(1,7, size = 10)\n",
    "print (\"The total of\", NumRolls, \"rolls of\",  NumDice,  \"dice is :\", np.sum(rollDice))\n"
   ]
  },
  {
   "cell_type": "code",
   "execution_count": 23,
   "metadata": {},
   "outputs": [
    {
     "ename": "IndexError",
     "evalue": "list assignment index out of range",
     "output_type": "error",
     "traceback": [
      "\u001b[1;31m---------------------------------------------------------------------------\u001b[0m",
      "\u001b[1;31mIndexError\u001b[0m                                Traceback (most recent call last)",
      "\u001b[1;32m<ipython-input-23-cc30978b4aa3>\u001b[0m in \u001b[0;36m<module>\u001b[1;34m\u001b[0m\n\u001b[0;32m      2\u001b[0m \u001b[1;32mfor\u001b[0m \u001b[0mrolls\u001b[0m \u001b[1;32min\u001b[0m \u001b[0mrollDice\u001b[0m\u001b[1;33m:\u001b[0m\u001b[1;33m\u001b[0m\u001b[1;33m\u001b[0m\u001b[0m\n\u001b[0;32m      3\u001b[0m     \u001b[1;32mif\u001b[0m \u001b[0mrolls\u001b[0m \u001b[1;32mnot\u001b[0m \u001b[1;32min\u001b[0m \u001b[0mDiceArray\u001b[0m\u001b[1;33m:\u001b[0m\u001b[1;33m\u001b[0m\u001b[1;33m\u001b[0m\u001b[0m\n\u001b[1;32m----> 4\u001b[1;33m         \u001b[0mDiceArray\u001b[0m\u001b[1;33m[\u001b[0m\u001b[0mrolls\u001b[0m\u001b[1;33m]\u001b[0m\u001b[1;33m=\u001b[0m\u001b[1;36m0\u001b[0m\u001b[1;33m\u001b[0m\u001b[1;33m\u001b[0m\u001b[0m\n\u001b[0m\u001b[0;32m      5\u001b[0m     \u001b[0mDiceArray\u001b[0m\u001b[1;33m[\u001b[0m\u001b[0mrolls\u001b[0m\u001b[1;33m]\u001b[0m \u001b[1;33m=\u001b[0m \u001b[0mDiceArray\u001b[0m\u001b[1;33m[\u001b[0m\u001b[0mrolls\u001b[0m\u001b[1;33m]\u001b[0m \u001b[1;33m+\u001b[0m\u001b[1;36m1\u001b[0m\u001b[1;33m\u001b[0m\u001b[1;33m\u001b[0m\u001b[0m\n\u001b[0;32m      6\u001b[0m \u001b[0mprint\u001b[0m\u001b[1;33m(\u001b[0m\u001b[0mDiceArray\u001b[0m\u001b[1;33m)\u001b[0m\u001b[1;33m\u001b[0m\u001b[1;33m\u001b[0m\u001b[0m\n",
      "\u001b[1;31mIndexError\u001b[0m: list assignment index out of range"
     ]
    }
   ],
   "source": [
    "#put values of rollDice into an array\n",
    "for rolls in rollDice:\n",
    "    if rolls not in DiceArray:\n",
    "        DiceArray[rolls]=0\n",
    "    DiceArray[rolls] = DiceArray[rolls] +1\n",
    "print(DiceArray)"
   ]
  },
  {
   "cell_type": "code",
   "execution_count": null,
   "metadata": {},
   "outputs": [],
   "source": []
  },
  {
   "cell_type": "markdown",
   "metadata": {},
   "source": [
    "#### References####\n",
    "1. YouTube - Numpy.random.default_rng(), https://www.youtube.com/watch?v=ryvY3RJucag, accessed 17 November 2020\n",
    "2. MathWorks - Multiple Dice Rolls Help, https://www.mathworks.com/matlabcentral/answers/54314-multiple-dice-rolls-help, accessed 18 November 2020\n",
    "3. Geek for Geeks, 2d Arrays, https://www.geeksforgeeks.org/python-using-2d-arrays-lists-the-right-way/, accessed 18 November 2020"
   ]
  },
  {
   "cell_type": "code",
   "execution_count": 9,
   "metadata": {},
   "outputs": [
    {
     "name": "stdout",
     "output_type": "stream",
     "text": [
      "Enter a sentence:dldi\n",
      "{'d': 2, 'l': 1, 'i': 1}\n"
     ]
    }
   ],
   "source": [
    "def countsFunction(string2):\n",
    "    instanceOfChar = {}\n",
    "    for i in string2:\n",
    "        if i in instanceOfChar:\n",
    "            instanceOfChar[i] += 1\n",
    "        else:\n",
    "             instanceOfChar[i] = 1\n",
    "    return(instanceOfChar)\n",
    "\n",
    "string = input('Enter a sentence:')\n",
    "lowerCase = string.lower()\n",
    "string2 = lowerCase.replace(\" \",\"\")\n",
    "\n",
    "print(countsFunction(string2))"
   ]
  },
  {
   "cell_type": "code",
   "execution_count": null,
   "metadata": {},
   "outputs": [],
   "source": []
  }
 ],
 "metadata": {
  "kernelspec": {
   "display_name": "Python 3",
   "language": "python",
   "name": "python3"
  },
  "language_info": {
   "codemirror_mode": {
    "name": "ipython",
    "version": 3
   },
   "file_extension": ".py",
   "mimetype": "text/x-python",
   "name": "python",
   "nbconvert_exporter": "python",
   "pygments_lexer": "ipython3",
   "version": "3.8.3"
  }
 },
 "nbformat": 4,
 "nbformat_minor": 4
}
