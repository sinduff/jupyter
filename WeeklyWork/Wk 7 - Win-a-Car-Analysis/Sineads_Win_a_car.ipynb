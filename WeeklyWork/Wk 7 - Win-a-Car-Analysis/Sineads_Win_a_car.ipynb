{
 "cells": [
  {
   "cell_type": "markdown",
   "metadata": {},
   "source": [
    "# Analysis of Win a Car Code"
   ]
  },
  {
   "cell_type": "code",
   "execution_count": 6,
   "metadata": {
    "scrolled": true
   },
   "outputs": [],
   "source": [
    "import numpy as np\n",
    "import pandas as pd\n",
    "import matplotlib.pyplot as plt\n",
    "import seaborn as sns"
   ]
  },
  {
   "cell_type": "markdown",
   "metadata": {},
   "source": [
    "<br>\n",
    "Read and display the data\n"
   ]
  },
  {
   "cell_type": "code",
   "execution_count": 9,
   "metadata": {
    "scrolled": false
   },
   "outputs": [
    {
     "name": "stdout",
     "output_type": "stream",
     "text": [
      "    einstein  monty  savant    car   pick   stay\n",
      "0       True  False   False    red   blue  False\n",
      "1       True  False   False  green   blue  False\n",
      "2       True  False   False    red    red   True\n",
      "3       True  False   False    red    red   True\n",
      "4       True  False   False    red   blue   True\n",
      "5       True  False   False   blue    red  False\n",
      "6       True  False   False   blue   blue   True\n",
      "7       True  False   False   blue    red   True\n",
      "8       True   True   False    red   blue   True\n",
      "9       True  False   False    red  green  False\n",
      "10      True  False   False  green  green  False\n",
      "11      True  False   False  green    red   True\n",
      "12      True  False   False    red    red  False\n",
      "13      True  False   False  green    red   True\n",
      "14      True  False   False   blue    red   True\n",
      "15      True   True   False  green   blue  False\n",
      "16      True  False   False    red   blue  False\n",
      "17      True  False   False    red   blue   True\n",
      "18      True  False   False    red   blue   True\n",
      "19      True  False   False  green   blue   True\n",
      "20      True   True   False   blue    red  False\n",
      "21      True  False   False   blue    red  False\n",
      "22      True  False   False    red    red  False\n",
      "23      True   True   False   blue    red  False\n",
      "24      True  False   False   blue    red   True\n",
      "25      True  False   False   blue    red  False\n",
      "26      True  False   False  green   blue   True\n",
      "27      True  False   False   blue   blue   True\n",
      "28      True   True   False   blue  green   True\n",
      "29      True   True    True    red   blue  False\n",
      "30      True  False   False   blue   blue   True\n",
      "31      True  False   False    red  green   True\n",
      "32      True  False   False  green   blue   True\n",
      "33      True   True   False    red  green   True\n",
      "34      True  False   False  green   blue  False\n",
      "35      True  False   False    red  green  False\n",
      "36      True  False   False    red   blue  False\n",
      "37      True  False   False    red    red   True\n",
      "38      True  False   False    red  green  False\n",
      "39      True  False   False    red   blue   True\n",
      "40      True  False   False   blue    red   True\n",
      "41      True  False   False  green   blue   True\n",
      "42      True  False   False  green   blue   True\n",
      "43      True  False   False  green  green   True\n"
     ]
    }
   ],
   "source": [
    "df = pd.read_csv(\"2020-11-01-win-a-car-data.csv\")\n",
    "print(df)"
   ]
  },
  {
   "cell_type": "markdown",
   "metadata": {},
   "source": [
    "**Reference** to code is https://seaborn.pydata.org/tutorial/categorical.html\n",
    "\n",
    "*sns.catplot(x=\"deck\", kind=\"count\", palette=\"ch:.25\", data=titanic)*\n",
    "\n",
    "Use a catplot to display a bar chart\n"
   ]
  },
  {
   "cell_type": "code",
   "execution_count": 8,
   "metadata": {
    "scrolled": true
   },
   "outputs": [
    {
     "data": {
      "text/plain": [
       "<seaborn.axisgrid.FacetGrid at 0x1cfb1e4ba90>"
      ]
     },
     "execution_count": 8,
     "metadata": {},
     "output_type": "execute_result"
    },
    {
     "data": {
      "image/png": "[encoded data removed]",
      "text/plain": [
       "<Figure size 360x360 with 1 Axes>"
      ]
     },
     "metadata": {
      "needs_background": "light"
     },
     "output_type": "display_data"
    }
   ],
   "source": [
    "sns.catplot(x=\"stay\", kind=\"count\", palette=\"ch:.25\", data=df)"
   ]
  },
  {
   "cell_type": "markdown",
   "metadata": {},
   "source": [
    "#### Random selection placing the car\n",
    "\n",
    "    checking to see how many times the car was randomly placed behind the car"
   ]
  },
  {
   "cell_type": "code",
   "execution_count": 11,
   "metadata": {
    "scrolled": true
   },
   "outputs": [
    {
     "data": {
      "text/plain": [
       "<seaborn.axisgrid.FacetGrid at 0x1cfb6f36670>"
      ]
     },
     "execution_count": 11,
     "metadata": {},
     "output_type": "execute_result"
    },
    {
     "data": {
      "image/png": "[encoded data removed]",
      "text/plain": [
       "<Figure size 360x360 with 1 Axes>"
      ]
     },
     "metadata": {
      "needs_background": "light"
     },
     "output_type": "display_data"
    }
   ],
   "source": [
    "# Bar chart of which door the car was placed behind\n",
    "sns.catplot(x=\"car\", kind=\"count\", palette=\"ch:.25\", data=df)"
   ]
  },
  {
   "cell_type": "code",
   "execution_count": 13,
   "metadata": {
    "scrolled": true
   },
   "outputs": [
    {
     "data": {
      "text/plain": [
       "<seaborn.axisgrid.FacetGrid at 0x1cfb70bb760>"
      ]
     },
     "execution_count": 13,
     "metadata": {},
     "output_type": "execute_result"
    },
    {
     "data": {
      "image/png": "[encoded data removed]",
      "text/plain": [
       "<Figure size 360x360 with 1 Axes>"
      ]
     },
     "metadata": {
      "needs_background": "light"
     },
     "output_type": "display_data"
    }
   ],
   "source": [
    "# how many people selected different doors\n",
    "\n",
    "sns.catplot(x=\"pick\", kind=\"count\", palette=\"ch:.25\", data=df)"
   ]
  },
  {
   "cell_type": "markdown",
   "metadata": {},
   "source": [
    "##### is changing your door a good idea?"
   ]
  },
  {
   "cell_type": "code",
   "execution_count": 21,
   "metadata": {
    "scrolled": true
   },
   "outputs": [
    {
     "name": "stdout",
     "output_type": "stream",
     "text": [
      "    einstein  monty  savant    car   pick   stay    win\n",
      "0       True  False   False    red   blue  False   True\n",
      "1       True  False   False  green   blue  False   True\n",
      "2       True  False   False    red    red   True   True\n",
      "3       True  False   False    red    red   True   True\n",
      "4       True  False   False    red   blue   True  False\n",
      "5       True  False   False   blue    red  False   True\n",
      "6       True  False   False   blue   blue   True   True\n",
      "7       True  False   False   blue    red   True  False\n",
      "8       True   True   False    red   blue   True  False\n",
      "9       True  False   False    red  green  False   True\n",
      "10      True  False   False  green  green  False  False\n",
      "11      True  False   False  green    red   True  False\n",
      "12      True  False   False    red    red  False  False\n",
      "13      True  False   False  green    red   True  False\n",
      "14      True  False   False   blue    red   True  False\n",
      "15      True   True   False  green   blue  False   True\n",
      "16      True  False   False    red   blue  False   True\n",
      "17      True  False   False    red   blue   True  False\n",
      "18      True  False   False    red   blue   True  False\n",
      "19      True  False   False  green   blue   True  False\n",
      "20      True   True   False   blue    red  False   True\n",
      "21      True  False   False   blue    red  False   True\n",
      "22      True  False   False    red    red  False  False\n",
      "23      True   True   False   blue    red  False   True\n",
      "24      True  False   False   blue    red   True  False\n",
      "25      True  False   False   blue    red  False   True\n",
      "26      True  False   False  green   blue   True  False\n",
      "27      True  False   False   blue   blue   True   True\n",
      "28      True   True   False   blue  green   True  False\n",
      "29      True   True    True    red   blue  False   True\n",
      "30      True  False   False   blue   blue   True   True\n",
      "31      True  False   False    red  green   True  False\n",
      "32      True  False   False  green   blue   True  False\n",
      "33      True   True   False    red  green   True  False\n",
      "34      True  False   False  green   blue  False   True\n",
      "35      True  False   False    red  green  False   True\n",
      "36      True  False   False    red   blue  False   True\n",
      "37      True  False   False    red    red   True   True\n",
      "38      True  False   False    red  green  False   True\n",
      "39      True  False   False    red   blue   True  False\n",
      "40      True  False   False   blue    red   True  False\n",
      "41      True  False   False  green   blue   True  False\n",
      "42      True  False   False  green   blue   True  False\n",
      "43      True  False   False  green  green   True   True\n"
     ]
    }
   ],
   "source": [
    "df[\"win\"] = ((df[\"car\"]==df[\"pick\"]) & df[\"stay\"]) | ((df[\"car\"]!=df[\"pick\"]) &~ df[\"stay\"])\n",
    "print(df)"
   ]
  },
  {
   "cell_type": "code",
   "execution_count": 26,
   "metadata": {},
   "outputs": [
    {
     "data": {
      "text/plain": [
       "22"
      ]
     },
     "execution_count": 26,
     "metadata": {},
     "output_type": "execute_result"
    }
   ],
   "source": [
    "#check the amount of true / false values in the win column\n",
    "df[\"win\"].sum()"
   ]
  },
  {
   "cell_type": "code",
   "execution_count": 22,
   "metadata": {
    "scrolled": true
   },
   "outputs": [
    {
     "data": {
      "text/plain": [
       "<seaborn.axisgrid.FacetGrid at 0x1bdbd7e7b20>"
      ]
     },
     "execution_count": 22,
     "metadata": {},
     "output_type": "execute_result"
    },
    {
     "data": {
      "image/png": "[encoded data removed]",
      "text/plain": [
       "<Figure size 360x360 with 1 Axes>"
      ]
     },
     "metadata": {
      "needs_background": "light"
     },
     "output_type": "display_data"
    }
   ],
   "source": [
    "# Bar chart of win variable\n",
    "\n",
    "sns.catplot(x=\"win\", kind=\"count\", palette=\"ch:.25\", data=df)"
   ]
  },
  {
   "cell_type": "code",
   "execution_count": 25,
   "metadata": {},
   "outputs": [
    {
     "data": {
      "text/plain": [
       "<seaborn.axisgrid.FacetGrid at 0x1bdbd7acd30>"
      ]
     },
     "execution_count": 25,
     "metadata": {},
     "output_type": "execute_result"
    },
    {
     "data": {
      "image/png": "[encoded data removed]",
      "text/plain": [
       "<Figure size 421.25x360 with 1 Axes>"
      ]
     },
     "metadata": {
      "needs_background": "light"
     },
     "output_type": "display_data"
    }
   ],
   "source": [
    "# chance of winning by staying vrs by changing ur door\n",
    "# reference https://seaborn.pydata.org/tutorial/categorical.html .. specifically bar chart with 2 variables (hue)\n",
    "\n",
    "sns.catplot(x=\"stay\", hue=\"win\", kind=\"count\", palette=\"ch:.25\", data=df)"
   ]
  },
  {
   "cell_type": "markdown",
   "metadata": {},
   "source": [
    "End"
   ]
  },
  {
   "cell_type": "code",
   "execution_count": null,
   "metadata": {},
   "outputs": [],
   "source": []
  }
 ],
 "metadata": {
  "kernelspec": {
   "display_name": "Python 3",
   "language": "python",
   "name": "python3"
  },
  "language_info": {
   "codemirror_mode": {
    "name": "ipython",
    "version": 3
   },
   "file_extension": ".py",
   "mimetype": "text/x-python",
   "name": "python",
   "nbconvert_exporter": "python",
   "pygments_lexer": "ipython3",
   "version": "3.8.3"
  }
 },
 "nbformat": 4,
 "nbformat_minor": 4
}
