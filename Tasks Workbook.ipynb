{
 "cells": [
  {
   "cell_type": "markdown",
   "metadata": {},
   "source": [
    "## Task Workbook - Fundamentals of Data Analysis\n",
    "#### Submitted by Sinéad Duffy, Student ID 10016151"
   ]
  },
  {
   "cell_type": "markdown",
   "metadata": {},
   "source": [
    "### Import Python Libraries\n",
    "***\n",
    "The first coding cell in this python notebook is dedicated to importing the relevant python libaries into the notebook."
   ]
  },
  {
   "cell_type": "code",
   "execution_count": 1,
   "metadata": {},
   "outputs": [],
   "source": [
    "#libaries to be imported for the notebook\n",
    "import numpy as np\n",
    "from numpy.random import default_rng\n",
    "rng = default_rng()\n",
    "\n",
    "import pandas as pd\n",
    "import seaborn as sns\n",
    "import matplotlib.pyplot as plt\n",
    "import pylab as p"
   ]
  },
  {
   "cell_type": "markdown",
   "metadata": {},
   "source": [
    "### Task 1 - workings for counts function\n",
    "**Ask** - create a function called counts to take a list as input and returns a dictionary of the number of unique items in that list\n",
    "<br><br>\n",
    "As outlined above, this program takes in a string input, formats the characters of the string, counts them, and returns a value.<br>\n",
    "\n",
    "**Step1 - input and format the string**\n",
    "The user of the program, enters an input into the input box.  To allow consistent counting, the string is converted into lower case characters using the *.lower()* method.  Next, the *.replace()* method is used to remove 'spaces' from the text.  This ensures that there is no empty container in the dictionary taking up excess space or memory.  The dictionary can hold and count numbers as well as punctuation characters when used in the input string.\n",
    "<br><br>\n",
    "**Step 2 - countsFunction**\n",
    "The function *countsFunction*, takes the string inputted from the user.  It uses a *for statement* to loop through the string, *if* the character has alread been counted, then and addition number is added to the dictionary called 'instanceOfChar', which was created at the start of the function.  If the character has not already been counted, then the *else* step add's 1 to that charcters space in the dictionary.  When the loop is complete, the counted dictionary is then returned.\n",
    "<br><br>\n",
    "**Step 3 - Output**\n",
    "The print statement at the end of the program calls the function, and passes the string to it.  The results of the parsed dictionary is then printed to the screen, and a count of the number of times that character appears in the text is displayed.  For example;<br><br>\n",
    "**Input:** Enter a sentence: Hello World!  \n",
    "\n",
    "**Output:** {'h': 1, 'e': 1, 'l': 3, 'o': 2, 'w': 1, 'r': 1, 'd': 1, '!': 1}\n",
    "<br>\n",
    "\n",
    "**References** \n",
    "1. Geek for Geeks, Python | Count occurrences of a character in string https://www.geeksforgeeks.org/python-count-occurrences-of-a-character-in-string/, accessed 18 November 2020\n",
    "2. W3Schools, ReadLine(), https://www.w3schools.com/python/ref_file_readline.asp, accessed 18 November 2020\n",
    "3.  Python Library, readline - GNU readline interface, https://docs.python.org/3/library/readline.html#module-readline, accessed 18 November 2020\n",
    "4.  Geek for Geeks, Python | Remove spaces from a string, https://www.geeksforgeeks.org/python-remove-spaces-from-a-string/, accessed 05/12/2020\n",
    "5. Stackoverflow.com, Counting Letter Frequency in a String (Python), https://stackoverflow.com/questions/40985203/counting-letter-frequency-in-a-string-python, accessed 05/12/2020\n",
    "6. RealPython.com, Sets in Python, https://realpython.com/python-sets/, accessed 05/12/2020\n",
    "***"
   ]
  },
  {
   "cell_type": "code",
   "execution_count": 4,
   "metadata": {},
   "outputs": [
    {
     "name": "stdout",
     "output_type": "stream",
     "text": [
      "Enter a sentence:Sinead Duffy\n",
      "{'s': 1, 'i': 1, 'n': 1, 'e': 1, 'a': 1, 'd': 2, 'u': 1, 'f': 2, 'y': 1}\n"
     ]
    }
   ],
   "source": [
    "#define a function called countsFunction, which takes in a string\n",
    "def countsFunction(string):\n",
    "    instanceOfChar = {}               #open a blank dictionary called instanceOfChar\n",
    "    for i in string2:                 #start a for look on the string passed into the function, and look for an instance 'i'\n",
    "        if i in instanceOfChar:       #if 'i' is already in the instanceOfChar;\n",
    "            instanceOfChar[i] += 1    #add 1 to the total of 'i'\n",
    "        else:                         #otherwise\n",
    "             instanceOfChar[i] = 1    #add a new instance of 'i' to the instanceOfChar dictionary, i.e. a new character.\n",
    "    return(instanceOfChar)            #return the contents of the dictionary 'instanceOfChar'\n",
    "\n",
    "string = input('Enter a sentence:')   #ask for user input in a variable called 'string'\n",
    "lowerCase = string.lower()            #convert all the characters of 'string' to lowercase\n",
    "string2 = lowerCase.replace(\" \",\"\")   #remove all the spaces to they are not included in the array\n",
    "\n",
    "print(countsFunction(string2))        #call the countsFunction, pass the variable string2 to it, and print the results."
   ]
  },
  {
   "cell_type": "markdown",
   "metadata": {},
   "source": [
    "### Task 2 - workings for counts function\n",
    "**Ask** - create a function called *dicerolls* to take in two parameters, the number of dice *k*, and the number of times to roll the dice *n*.  Randomly simulate rolling the *n* dice *k* times.  Return a dictionary with the number of possible total face vlaue occured.\n",
    "<br><br>\n",
    "In Task 2, a function called *dicerolls* is created, and counts the number of times a total value is rolled.  \n",
    "\n",
    "**Step 1 - Input**\n",
    "The first step in the program asks the user to input a number of variables, nameley;\n",
    "\n",
    "- **x** is the number of rolls to be made\n",
    "- **k** is the number of dice that are to be rolled\n",
    "\n",
    "The variable *DiceFace* sets the face of the dice to be 6, whilst the variable *DiceRance* takes the number of dice to be rolled (*k*), and multiples it by the DiceFace variable (6), and adds 1 to the total to allow for position 0 in the dictionary.\n",
    "<br><br>\n",
    "**Step 2 - dicerolls function**\n",
    "The function takes a number of arguments, namely;\n",
    "\n",
    "- **x** is the number of rolls to be made\n",
    "- **k** is the number of dice that are to be rolled\n",
    "- **DiceRange** the number of potential values that can be rolled, i.e up to 6, 12, 18 etc, depending on the number of dice chosen\n",
    "\n",
    "An empty dictionary is created called DiceResults, to hold the contents of the function, and to be returned when called.  The *for* loop, takes in a range of values, from 1 to *x* - which was entered by the user.  A variable called *roll* is created, and set uses the default_rng() function in numpy to simulate rolling a dice.  The returned value will be in a range between the number of dice rolled *k*, and the value of the variable *DiceRange*.\n",
    "\n",
    "The following *if* statement puts the value rolled into the dictionary *DiceResults*, if the value already exists in the dictionary, then 1 is added to it's existing value.  If it doesn't exist, then a new value is created, with 1 added to it's total.\n",
    "\n",
    "The function sorts through the dictiory, and using Lambda, puts the values in order.  The completed dictionary *DiceResults* is returned.\n",
    "<br><br>\n",
    "**Step 3 - Output**\n",
    "The print statement at the end of the code, calls the function, it passes through the variables x, k and DiceRange.\n",
    "\n",
    "Once the function is completed, the value of the DiceResults dictionary is returned to the screen.\n",
    "\n",
    "**Input** \n",
    "1. Enter the number of rolls to be made: 20\n",
    "2. Enter the number of dice to be rolled: 2\n",
    "\n",
    "**Output**\n",
    "\n",
    "{2: 3, 6: 1, 11: 2, 10: 1, 7: 3, 12: 2, 3: 5, 4: 1, 8: 1}\n",
    "\n",
    "<br>\n",
    "\n",
    "#### References####\n",
    "1. YouTube - Numpy.random.default_rng(), https://www.youtube.com/watch?v=ryvY3RJucag, accessed 17 November 2020\n",
    "2. MathWorks - Multiple Dice Rolls Help, https://www.mathworks.com/matlabcentral/answers/54314-multiple-dice-rolls-help, accessed 18 November 2020\n",
    "3. Geek for Geeks, 2d Arrays, https://www.geeksforgeeks.org/python-using-2d-arrays-lists-the-right-way/, accessed 18 November 2020\n",
    "4. Stackoverflow.com, How to print values in an array in order after sorted indexes in python, https://stackoverflow.com/questions/51354466/how-to-print-values-in-an-array-in-order-after-sorted-indexes-in-python, accessed 10 December 2020 \n",
    "5. Stackoverflow.com, How do I sort a dictionary by value?, https://stackoverflow.com/questions/613183/how-do-i-sort-a-dictionary-by-value, accessed 10 December 2020\n",
    "***"
   ]
  },
  {
   "cell_type": "code",
   "execution_count": 7,
   "metadata": {},
   "outputs": [
    {
     "name": "stdout",
     "output_type": "stream",
     "text": [
      "Enter the number of rolls to be made: 5\n",
      "Enter the number of dice to be rolled: 5\n",
      "{26: 1, 24: 1, 19: 1, 11: 1}\n"
     ]
    }
   ],
   "source": [
    "def dicerolls(x,k,DiceRange):\n",
    "    #create an empty dictionary object\n",
    "    DiceResults = {}\n",
    "    \n",
    "    #roll the dice x number of times (as defined by the user)\n",
    "    for x in range(1,x):\n",
    "        #calculate the random value of the roll (using a range of 1 to DiceRange)\n",
    "        roll = rng.integers(k,DiceRange)\n",
    "        #if the result in is in the array add one\n",
    "        if roll in DiceResults:\n",
    "            DiceResults[roll] += 1\n",
    "        #otherwise .. add to the array\n",
    "        else:\n",
    "            DiceResults[roll] = DiceResults[roll] = 1\n",
    "        \n",
    "        #Sort the Value of DiceResults\n",
    "        sorted(DiceResults.items(), key = lambda x: x[1])\n",
    "    #return the object DiceResults\n",
    "    return(DiceResults)\n",
    "\n",
    "#enter user values to roll x times and x number of dice\n",
    "x = int(input('Enter the number of rolls to be made: '))\n",
    "k = int(input('Enter the number of dice to be rolled: '))\n",
    "#set the value of the dice face to be 6\n",
    "DiceFace = 6\n",
    "#calculate the maximum value that can be rolled, and add 1 to allow for position 0.\n",
    "DiceRange = (k * DiceFace) + 1\n",
    "\n",
    "#print the returned dictionary from the dicerolls function\n",
    "print(dicerolls(x,k,DiceRange))"
   ]
  },
  {
   "cell_type": "markdown",
   "metadata": {},
   "source": [
    "#### Task 3 - Binomial Distribution, Flipping a coin x number of time\n",
    "**Ask** - flip a coin 100 times, then repeat for 1,000 flips of the coin.  Plot the results \n",
    "<br><br>\n",
    "**Step1 - input and format the string**\n",
    "\n",
    "<br><br>\n",
    "**Step 2 - countsFunction**\n",
    "\n",
    "<br><br>\n",
    "**Step 3 - Output**\n",
    "\n",
    "<br><br>\n",
    "**Input:** \n",
    "\n",
    "**Output:** \n",
    "\n",
    "<br><br>\n",
    "*Refrences*\n",
    "\n",
    "1. NumPy.org, Binomial Distribution, https://numpy.org/doc/stable/reference/random/generated/numpy.random.binomial.html, accessed 10 December 2020\n",
    "2. CMDLineTips.com, Binomial Distribution, https://cmdlinetips.com/2018/12/simulating-coin-toss-experiment-with-binomial-random-numbers-using-numpy/, accessed 11 December 2020\n",
    "3. Matplotlib.org, pyplot.xtricks, https://matplotlib.org/3.3.3/api/_as_gen/matplotlib.pyplot.xticks.html, accessed 11 December 2020\n",
    "4. Stackoverflow, Dict Object and append error https://stackoverflow.com/questions/48234473/python-attributeerror-dict-object-has-no-attribute-append, accessed 14 December 2020\n",
    "***"
   ]
  },
  {
   "cell_type": "code",
   "execution_count": 46,
   "metadata": {
    "scrolled": true
   },
   "outputs": [
    {
     "name": "stdout",
     "output_type": "stream",
     "text": [
      "[0.0, 0.0, 0.0, 0.0, 0.0, 0.0, 0.0, 0.0, 0.0, 0.0, 0.0, 0.0, 0.0, 0.0, 0.0, 0.0, 0.0, 0.0, 0.0, 0.0, 0.0, 0.0, 0.0, 0.0, 0.0, 0.0, 0.0, 0.0, 0.0, 0.0, 0.0, 0.0, 0.0, 0.0, 0.0, 0.0, 0.003, 0.0, 0.004, 0.013, 0.01, 0.017, 0.024, 0.024, 0.035, 0.035, 0.049, 0.077, 0.073, 0.075, 0.088, 0.081, 0.083, 0.069, 0.057, 0.047, 0.032, 0.025, 0.023, 0.021, 0.018, 0.006, 0.008, 0.001, 0.001, 0.0, 0.0, 0.0, 0.001, 0.0, 0.0, 0.0, 0.0, 0.0, 0.0, 0.0, 0.0, 0.0, 0.0, 0.0, 0.0, 0.0, 0.0, 0.0, 0.0, 0.0, 0.0, 0.0, 0.0, 0.0, 0.0, 0.0, 0.0, 0.0, 0.0, 0.0, 0.0, 0.0, 0.0, 0.0]\n"
     ]
    },
    {
     "data": {
      "text/plain": [
       "Text(0.5, 1.0, 'Binomial distribution for flipping a coin')"
      ]
     },
     "execution_count": 46,
     "metadata": {},
     "output_type": "execute_result"
    },
    {
     "data": {
      "image/png": "[encoded data removed]",
      "text/plain": [
       "<Figure size 432x288 with 1 Axes>"
      ]
     },
     "metadata": {
      "needs_background": "light"
     },
     "output_type": "display_data"
    }
   ],
   "source": [
    "#flip a coin 100 times, and count the number of heads.  \n",
    "#Repeat the experiment 1000 times\n",
    "#print and graph the results \n",
    "\n",
    "#defining the parameters of the experiment\n",
    "noFlip = 100\n",
    "prob = 0.5\n",
    "sampleSize = 1000\n",
    "\n",
    "#run the binomial function to determine the outcome\n",
    "x = rng.binomial(n=noFlip, p=prob, size=sampleSize)\n",
    "\n",
    "#open an array to store the results of the probabilty of x heads in each 100 flips of the coin\n",
    "countHeads = [np.equal(x,i).mean() for i in range(noFlip)]\n",
    "\n",
    "print(countHeads)\n",
    "\n",
    "#plot the results\n",
    "plt.xticks(range(noFlip))\n",
    "plt.plot(list(range(noFlip)), countHeads, color='green', marker='*')\n",
    "#plt.figure(figsize=(5000,2000))\n",
    "plt.xlabel('Number of Heads Returned',fontsize=14)\n",
    "plt.ylabel('Probability',fontsize=14)\n",
    "plt.title('Binomial distribution for flipping a coin',fontsize=14)\n",
    "\n",
    "\n",
    "#Version 2 - plotting the graph with Seaborn\n",
    "\n",
    "#open a dictionary to store the results of the probabilty of x heads in each 100 flips of the coin\n",
    "#countHeads = {}\n",
    "#for i in range(noFlip):\n",
    "#    toss = [np.equal(x,i).mean() for i in range(noFlip)]\n",
    "    #countHeads.append(len([i for i in toss if i>=0.50]))\n",
    "#print(countHeads)\n",
    "\n",
    "#1 . convert to pandas dataframe  .. or Data Series\n",
    "#df=pd.Series(countHeads).to_frame('new_col').reset_index()\n",
    "#df=pd.Series([countHeads])\n",
    "#sns.lineplot(x=noFlip, y=prob, data=df)"
   ]
  },
  {
   "cell_type": "markdown",
   "metadata": {},
   "source": [
    "### Task 4 - Simpson's Paradox\n",
    "\n",
    "**Ask** - Create **four data sets**, each with an x array and a corresponding y array, to demonstrate Simpson’s paradox. You might create your **x arrays using numpy.linspace** and create the **y array for each x using notation like y = a * x + b** where you choose the a and b for each x , y pair to demonstrate the paradox.\n",
    "<br><br>\n",
    "Simpson's paradox, occur in statitices when a clear pattern or trend within the data either \"disappears or reverses when these groups are combined\"$^1$. The most quoted example of this is the UCI Berekly Study from 1974, where the perception of bias in Geneder amongst admission, was reversed when the Department of study was applied to the data.\n",
    "<br><br>\n",
    "To demonstarte Simpson's Paradox, the author has choosen to look at flights into an Airport.  The choosen airport was Shannon, with the flights arriving from 2 different airports (Dublin and Knock).  For each airport, the number of flights in total over a period is tracked - this is variable *x*.  The number of delayed flights is alo tracked - this is variable *y*.  *X* is calculated using the numpy.linspace calulation.  *Y* is calculated using the **y = a * x + b** notiation as outlined in the Task brief.  The values of *a* and *b* are estimated, but will be selected knowing the value of each will take in to account a percentage of delayed flights, as etimated by the author. As flights between Irish airports are not frequent, the numbers have been estmated for the purpose of this Task.\n",
    "<br><br>\n",
    "**Step1 - Create the Data**\n",
    "The estimated data is based on\n",
    "- Dublin\n",
    "    - Total Flights = 80  /  80%\n",
    "    - Delayed = 20  /  20%\n",
    "- Knock\n",
    "    - Total Flights = 70  /  70%\n",
    "    - Delayed = 30  /  30%\n",
    "- Combined\n",
    "    - Total Flights = 100\n",
    "    - Delayed = 50\n",
    "\n",
    "<br><br>\n",
    "\n",
    "**Step 2 - Combine the datasets to show Simpons Paradox**\n",
    "\n",
    "<br><br>\n",
    "**Input:** \n",
    "\n",
    "**Output:** \n",
    "\n",
    "<br><br>\n",
    "*Refrences*\n",
    "1. Wikipedia.com, Simpson's Paradox, https://en.wikipedia.org/wiki/Simpson%27s_paradox#:~:text=Simpson's%20paradox%2C%20which%20also%20goes,when%20these%20groups%20are%20combined, accessed 12 December 2020\n",
    "2. RealPython.com, Using Pandas and Python to Explore Your Dataset, https://realpython.com/pandas-python-explore-dataset/, accesssed 12 December 2020\n",
    "3. GeekforGeeks, numpy.linspace() in Python, https://www.geeksforgeeks.org/numpy-linspace-python/, accessed 12 December 2020\n",
    "4. NumPy.org, Random Generator, https://numpy.org/devdocs/reference/random/generator.html, accessed 12 December 2020\n",
    "5. Kaggle.com, Simpson’s Paradox - In Python, https://www.kaggle.com/saicataram/simpson-s-paradox-in-python, accessed 12 December 2020\n",
    "6. Pandas.pydata.org, pandas.DataFrame.to_numpy, https://pandas.pydata.org/pandas-docs/stable/reference/api/pandas.DataFrame.to_numpy.html, accessed 12 December 2020 \n",
    "7. python-course.eu, Generate Datasets in Python, https://www.python-course.eu/machine_learning_create_datasets.php\n",
    "8. Tutorialspoint.com, Matplotlib - PyLab module, https://www.tutorialspoint.com/matplotlib/matplotlib_pylab_module.htm, accessed 12 December 2020\n",
    "9. Brilliant.org, Simpsons Paradox, https://brilliant.org/wiki/simpsons-paradox/#:~:text=When%20aggregated%20across%20all%20of,the%20average%20tax%20rate%20increased!&text=In%20fact%2C%20one%20real%2Dworld,has%20risen%20(about%201%25), accessed 12 December 2020\n",
    "10. Britannica.com, Simpsons Paradox, https://www.britannica.com/topic/Simpsons-paradox, accessed 12 December 2020\n",
    "***"
   ]
  },
  {
   "cell_type": "markdown",
   "metadata": {},
   "source": [
    "#### Step 1 Creating the datasets\n",
    "\n",
    "***"
   ]
  },
  {
   "cell_type": "code",
   "execution_count": 68,
   "metadata": {},
   "outputs": [
    {
     "name": "stdout",
     "output_type": "stream",
     "text": [
      "[1.3997549 0.7451958]\n"
     ]
    },
    {
     "data": {
      "text/plain": [
       "[<matplotlib.lines.Line2D at 0x195be9a9130>]"
      ]
     },
     "execution_count": 68,
     "metadata": {},
     "output_type": "execute_result"
    },
    {
     "data": {
      "image/png": "[encoded data removed]",
      "text/plain": [
       "<Figure size 432x288 with 1 Axes>"
      ]
     },
     "metadata": {
      "needs_background": "light"
     },
     "output_type": "display_data"
    }
   ],
   "source": [
    "#create dataset 1 - flights from Dublin Airport to Shannon Airport\n",
    "#x1 = total flights, y1 = flight delayed\n",
    "\n",
    "#0.0,5.0\n",
    "x1 = np.linspace(0.0,8.0,num=100)\n",
    "#createing variables for y = using the line function \n",
    "#a = 6.0, b = 5.0, including noise, and a Std Dev of 1.5\n",
    "y1 = 1.5 * x1 + 0.5 + np.random.normal(0.0, 1.5, len(x1))\n",
    "\n",
    "Coefficient1= np.polyfit(x1, y1, 1)\n",
    "print(Coefficient1)\n",
    "\n",
    "# Plot x vs y.\n",
    "plt.plot(x1, y1, '*')\n",
    "plt.plot(x1, Coefficient1[0] * x1 + Coefficient1[1], '-', label='Dublin')"
   ]
  },
  {
   "cell_type": "code",
   "execution_count": 72,
   "metadata": {},
   "outputs": [
    {
     "name": "stdout",
     "output_type": "stream",
     "text": [
      "[2.0005982  1.05430729]\n"
     ]
    },
    {
     "data": {
      "text/plain": [
       "[<matplotlib.lines.Line2D at 0x195beeeb460>]"
      ]
     },
     "execution_count": 72,
     "metadata": {},
     "output_type": "execute_result"
    },
    {
     "data": {
      "image/png": "[encoded data removed]",
      "text/plain": [
       "<Figure size 432x288 with 1 Axes>"
      ]
     },
     "metadata": {
      "needs_background": "light"
     },
     "output_type": "display_data"
    }
   ],
   "source": [
    "#create dataset 2 - flights from  Knock Airport Shannon Airport\n",
    "#x2 = total flights\n",
    "#y2 = delayed\n",
    "\n",
    "#x2 = np.linspace(0.0,7.0,num=100)\n",
    "x2 = np.linspace(0.0,8.0,num=100)\n",
    "#createing variables for y = using the line function \n",
    "#a = 6.0, b = 5.0, including noise, and a Std Dev of 1.5\n",
    "y2 = 2.0 * x1 + 1.0 + np.random.normal(0.0, 0.75, len(x2))\n",
    "\n",
    "Coefficient2= np.polyfit(x2, y2, 1)\n",
    "print(Coefficient2)\n",
    "\n",
    "# Plot x vs y.\n",
    "plt.plot(x2, y2, '.')\n",
    "plt.plot(x2, Coefficient2[0] * x2 + Coefficient2[1], '-', label='Knock')"
   ]
  },
  {
   "cell_type": "markdown",
   "metadata": {},
   "source": [
    "#### Step 2 - Combining the Data Sets to see correlation\n",
    "\n",
    "***"
   ]
  },
  {
   "cell_type": "code",
   "execution_count": 63,
   "metadata": {},
   "outputs": [],
   "source": [
    "#concatenate \n",
    "x = np.concatenate([x1, x2])\n",
    "y = np.concatenate([y1, y2])"
   ]
  },
  {
   "cell_type": "code",
   "execution_count": 64,
   "metadata": {},
   "outputs": [
    {
     "name": "stdout",
     "output_type": "stream",
     "text": [
      "[1.75442863 0.78586323]\n"
     ]
    }
   ],
   "source": [
    "# Fit a line to the combined data set.\n",
    "Coefficient = np.polyfit(x, y, 1)\n",
    "print(Coefficient)"
   ]
  },
  {
   "cell_type": "code",
   "execution_count": 73,
   "metadata": {},
   "outputs": [
    {
     "data": {
      "image/png": "[encoded data removed]",
      "text/plain": [
       "<Figure size 432x288 with 1 Axes>"
      ]
     },
     "metadata": {
      "needs_background": "light"
     },
     "output_type": "display_data"
    }
   ],
   "source": [
    "# What does the x/y relationship look like in the combined\n",
    "# versus the original?\n",
    "plt.plot(x1, y1, '*', label=\"data1\")\n",
    "plt.plot(x1, Coefficient1[0] * x1 + Coefficient1[1], '-', label='Flights from Dublin')\n",
    "plt.plot(x2, y2, '.', label=\"data2\")\n",
    "plt.plot(x2, Coefficient2[0] * x2 + Coefficient2[1], '-', label='Flights from Knock')\n",
    "plt.plot(x, Coefficient[0] * x + Coefficient[1], '-', label='Flights to Shannon combined')\n",
    "#plt.xaxis\n",
    "plt.legend();\n",
    "#x2 = ontime\n",
    "#y2 = delayed"
   ]
  },
  {
   "cell_type": "code",
   "execution_count": null,
   "metadata": {},
   "outputs": [],
   "source": []
  }
 ],
 "metadata": {
  "kernelspec": {
   "display_name": "Python 3",
   "language": "python",
   "name": "python3"
  },
  "language_info": {
   "codemirror_mode": {
    "name": "ipython",
    "version": 3
   },
   "file_extension": ".py",
   "mimetype": "text/x-python",
   "name": "python",
   "nbconvert_exporter": "python",
   "pygments_lexer": "ipython3",
   "version": "3.8.3"
  }
 },
 "nbformat": 4,
 "nbformat_minor": 4
}
